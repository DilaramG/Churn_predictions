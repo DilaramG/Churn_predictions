{
 "cells": [
  {
   "attachments": {},
   "cell_type": "markdown",
   "metadata": {},
   "source": [
    "Develop a predictive model using SAS, R, Python or SPSS Modeller to automatically notify AHG leaders 90 days before a customer is due to churn, i.e. when a customer’s churn propensity exceeds a specific threshold, say 0.7"
   ]
  },
  {
   "cell_type": "code",
   "execution_count": 95,
   "metadata": {},
   "outputs": [],
   "source": [
    "#Import libraries\n",
    "import datetime\n",
    "import pandas as pd\n",
    "import numpy as np\n",
    "from matplotlib import cm as cm\n",
    "import matplotlib.pyplot as plt\n",
    "import seaborn as sns\n",
    "import category_encoders as ce\n",
    "from sklearn.preprocessing import LabelEncoder\n",
    "from IPython.display import display\n",
    "from sklearn.feature_selection import chi2\n",
    "%matplotlib inline\n"
   ]
  },
  {
   "cell_type": "markdown",
   "metadata": {},
   "source": [
    "## 1 Data import \n"
   ]
  },
  {
   "cell_type": "code",
   "execution_count": 96,
   "metadata": {
    "scrolled": true
   },
   "outputs": [],
   "source": [
    "df_monthly = pd.read_csv(\"Visit_Month.csv\")\n",
    "df_demographic = pd.read_csv(\"Customer_Demographic.csv\")\n",
    "df_transactional = pd.read_csv(\"Customer_Transaction_Total.csv\")\n",
    "df_customer_churn = pd.read_csv(\"customer_churn.csv\")\n"
   ]
  },
  {
   "cell_type": "code",
   "execution_count": 97,
   "metadata": {},
   "outputs": [
    {
     "name": "stdout",
     "output_type": "stream",
     "text": [
      "<class 'pandas.core.frame.DataFrame'>\n",
      "RangeIndex: 18484 entries, 0 to 18483\n",
      "Data columns (total 5 columns):\n",
      "CustomerKey              18484 non-null int64\n",
      "AverageVisitPerMonth     18484 non-null int64\n",
      "AverageSpentEachMonth    18484 non-null float64\n",
      "TotalVisit               18484 non-null int64\n",
      "TotalMonth               18484 non-null int64\n",
      "dtypes: float64(1), int64(4)\n",
      "memory usage: 722.2 KB\n"
     ]
    }
   ],
   "source": [
    "df_monthly.info()\n",
    "## this csv seems fine"
   ]
  },
  {
   "cell_type": "code",
   "execution_count": 98,
   "metadata": {},
   "outputs": [
    {
     "name": "stdout",
     "output_type": "stream",
     "text": [
      "<class 'pandas.core.frame.DataFrame'>\n",
      "RangeIndex: 18484 entries, 0 to 18483\n",
      "Data columns (total 6 columns):\n",
      "CustomerKey         18484 non-null int64\n",
      "TotalOrderNumber    18484 non-null int64\n",
      "TotalSpent          18484 non-null float64\n",
      "TotalProfit         18484 non-null float64\n",
      "TotalTransaction    18484 non-null int64\n",
      "AverageBasket       18484 non-null int64\n",
      "dtypes: float64(2), int64(4)\n",
      "memory usage: 866.6 KB\n"
     ]
    }
   ],
   "source": [
    "df_transactional.info()"
   ]
  },
  {
   "cell_type": "code",
   "execution_count": null,
   "metadata": {},
   "outputs": [],
   "source": []
  },
  {
   "cell_type": "code",
   "execution_count": 99,
   "metadata": {},
   "outputs": [
    {
     "name": "stdout",
     "output_type": "stream",
     "text": [
      "<class 'pandas.core.frame.DataFrame'>\n",
      "RangeIndex: 18484 entries, 0 to 18483\n",
      "Data columns (total 2 columns):\n",
      "CustomerKey        18484 non-null int64\n",
      "LastTransaction    18484 non-null object\n",
      "dtypes: int64(1), object(1)\n",
      "memory usage: 288.9+ KB\n",
      "None\n"
     ]
    },
    {
     "data": {
      "text/plain": [
       "0    12973\n",
       "1     5511\n",
       "Name: ChurnTarget, dtype: int64"
      ]
     },
     "execution_count": 99,
     "metadata": {},
     "output_type": "execute_result"
    }
   ],
   "source": [
    "print(df_customer_churn.info())\n",
    "## now churn target creation\n",
    "churn_date = datetime.datetime.strptime('2013-05-31 00:00:00.000','%Y-%m-%d %H:%M:%S.%f')\n",
    "## convert string transaction to datetime\n",
    "df_customer_churn[\"LastTransaction\"]= df_customer_churn.LastTransaction.apply(lambda x: datetime.datetime.strptime(x, '%Y-%m-%d %H:%M:%S.%f'))\n",
    "df_customer_churn[\"ChurnTarget\"] = df_customer_churn.LastTransaction.apply(lambda x: 1 if x<churn_date else 0)\n",
    "\n",
    "df_customer_churn[\"ChurnTarget\"].value_counts()"
   ]
  },
  {
   "cell_type": "markdown",
   "metadata": {},
   "source": [
    "### merge all data \n"
   ]
  },
  {
   "cell_type": "code",
   "execution_count": 100,
   "metadata": {},
   "outputs": [],
   "source": [
    "result1 = df_monthly.join(df_demographic.set_index('CustomerKey'), on='CustomerKey', how='inner')"
   ]
  },
  {
   "cell_type": "code",
   "execution_count": 101,
   "metadata": {},
   "outputs": [],
   "source": [
    "result2 = result1.join(df_transactional.set_index('CustomerKey'), on='CustomerKey', how='inner')\n",
    "result = result2.join(df_customer_churn[['CustomerKey', 'ChurnTarget']].set_index('CustomerKey'), on='CustomerKey', how='inner')"
   ]
  },
  {
   "cell_type": "code",
   "execution_count": 102,
   "metadata": {},
   "outputs": [
    {
     "name": "stdout",
     "output_type": "stream",
     "text": [
      "<class 'pandas.core.frame.DataFrame'>\n",
      "Int64Index: 18484 entries, 0 to 18483\n",
      "Data columns (total 24 columns):\n",
      "CustomerKey              18484 non-null int64\n",
      "AverageVisitPerMonth     18484 non-null int64\n",
      "AverageSpentEachMonth    18484 non-null float64\n",
      "TotalVisit               18484 non-null int64\n",
      "TotalMonth               18484 non-null int64\n",
      "Gender                   18484 non-null object\n",
      "TotalChildren            18484 non-null int64\n",
      "HouseOwnerFlag           18484 non-null int64\n",
      "SalesTerritoryRegion     18484 non-null object\n",
      "SalesTerritoryCountry    18484 non-null object\n",
      "SalesTerritoryGroup      18484 non-null object\n",
      "EnglishEducation         18484 non-null object\n",
      "EnglishOccupation        18484 non-null object\n",
      "Age                      18484 non-null int64\n",
      "DateFirstPurchase        18484 non-null object\n",
      "CommuteDistance          18484 non-null object\n",
      "NumberCarsOwned          18484 non-null int64\n",
      "YearlyIncomeBand         18484 non-null object\n",
      "TotalOrderNumber         18484 non-null int64\n",
      "TotalSpent               18484 non-null float64\n",
      "TotalProfit              18484 non-null float64\n",
      "TotalTransaction         18484 non-null int64\n",
      "AverageBasket            18484 non-null int64\n",
      "ChurnTarget              18484 non-null int64\n",
      "dtypes: float64(3), int64(12), object(9)\n",
      "memory usage: 3.5+ MB\n"
     ]
    }
   ],
   "source": [
    "result.info()"
   ]
  },
  {
   "cell_type": "markdown",
   "metadata": {},
   "source": [
    "### Get 60% of non churner and hold it out. \n"
   ]
  },
  {
   "cell_type": "code",
   "execution_count": 103,
   "metadata": {},
   "outputs": [],
   "source": [
    "result_churners = result[result[\"ChurnTarget\"] == 1]\n",
    "result_non_churners = result[result[\"ChurnTarget\"] == 0]\n",
    "result_non_churner_train, result_non_churner_predict  = np.split(result_non_churners, [int(.45*len(result_non_churners))])\n",
    "training_df = pd.concat([result_churners, result_non_churner_train], axis = 0)"
   ]
  },
  {
   "cell_type": "code",
   "execution_count": 104,
   "metadata": {},
   "outputs": [
    {
     "name": "stdout",
     "output_type": "stream",
     "text": [
      "<class 'pandas.core.frame.DataFrame'>\n",
      "Int64Index: 11348 entries, 1 to 8323\n",
      "Data columns (total 24 columns):\n",
      "CustomerKey              11348 non-null int64\n",
      "AverageVisitPerMonth     11348 non-null int64\n",
      "AverageSpentEachMonth    11348 non-null float64\n",
      "TotalVisit               11348 non-null int64\n",
      "TotalMonth               11348 non-null int64\n",
      "Gender                   11348 non-null object\n",
      "TotalChildren            11348 non-null int64\n",
      "HouseOwnerFlag           11348 non-null int64\n",
      "SalesTerritoryRegion     11348 non-null object\n",
      "SalesTerritoryCountry    11348 non-null object\n",
      "SalesTerritoryGroup      11348 non-null object\n",
      "EnglishEducation         11348 non-null object\n",
      "EnglishOccupation        11348 non-null object\n",
      "Age                      11348 non-null int64\n",
      "DateFirstPurchase        11348 non-null object\n",
      "CommuteDistance          11348 non-null object\n",
      "NumberCarsOwned          11348 non-null int64\n",
      "YearlyIncomeBand         11348 non-null object\n",
      "TotalOrderNumber         11348 non-null int64\n",
      "TotalSpent               11348 non-null float64\n",
      "TotalProfit              11348 non-null float64\n",
      "TotalTransaction         11348 non-null int64\n",
      "AverageBasket            11348 non-null int64\n",
      "ChurnTarget              11348 non-null int64\n",
      "dtypes: float64(3), int64(12), object(9)\n",
      "memory usage: 2.2+ MB\n"
     ]
    }
   ],
   "source": [
    "training_df.info()"
   ]
  },
  {
   "cell_type": "code",
   "execution_count": 105,
   "metadata": {},
   "outputs": [
    {
     "data": {
      "text/html": [
       "<div>\n",
       "<style scoped>\n",
       "    .dataframe tbody tr th:only-of-type {\n",
       "        vertical-align: middle;\n",
       "    }\n",
       "\n",
       "    .dataframe tbody tr th {\n",
       "        vertical-align: top;\n",
       "    }\n",
       "\n",
       "    .dataframe thead th {\n",
       "        text-align: right;\n",
       "    }\n",
       "</style>\n",
       "<table border=\"1\" class=\"dataframe\">\n",
       "  <thead>\n",
       "    <tr style=\"text-align: right;\">\n",
       "      <th></th>\n",
       "      <th>CustomerKey</th>\n",
       "      <th>AverageVisitPerMonth</th>\n",
       "      <th>AverageSpentEachMonth</th>\n",
       "      <th>TotalVisit</th>\n",
       "      <th>TotalMonth</th>\n",
       "      <th>Gender</th>\n",
       "      <th>TotalChildren</th>\n",
       "      <th>HouseOwnerFlag</th>\n",
       "      <th>SalesTerritoryRegion</th>\n",
       "      <th>SalesTerritoryCountry</th>\n",
       "      <th>...</th>\n",
       "      <th>DateFirstPurchase</th>\n",
       "      <th>CommuteDistance</th>\n",
       "      <th>NumberCarsOwned</th>\n",
       "      <th>YearlyIncomeBand</th>\n",
       "      <th>TotalOrderNumber</th>\n",
       "      <th>TotalSpent</th>\n",
       "      <th>TotalProfit</th>\n",
       "      <th>TotalTransaction</th>\n",
       "      <th>AverageBasket</th>\n",
       "      <th>ChurnTarget</th>\n",
       "    </tr>\n",
       "  </thead>\n",
       "  <tbody>\n",
       "    <tr>\n",
       "      <th>1</th>\n",
       "      <td>22814</td>\n",
       "      <td>1</td>\n",
       "      <td>4.9900</td>\n",
       "      <td>1</td>\n",
       "      <td>1</td>\n",
       "      <td>M</td>\n",
       "      <td>2</td>\n",
       "      <td>1</td>\n",
       "      <td>France</td>\n",
       "      <td>France</td>\n",
       "      <td>...</td>\n",
       "      <td>2013-03-24</td>\n",
       "      <td>10+ Miles</td>\n",
       "      <td>4</td>\n",
       "      <td>80k to 120k</td>\n",
       "      <td>1</td>\n",
       "      <td>4.9900</td>\n",
       "      <td>3.1237</td>\n",
       "      <td>1</td>\n",
       "      <td>1</td>\n",
       "      <td>1</td>\n",
       "    </tr>\n",
       "    <tr>\n",
       "      <th>4</th>\n",
       "      <td>18546</td>\n",
       "      <td>2</td>\n",
       "      <td>29.4800</td>\n",
       "      <td>2</td>\n",
       "      <td>1</td>\n",
       "      <td>F</td>\n",
       "      <td>1</td>\n",
       "      <td>1</td>\n",
       "      <td>Southeast</td>\n",
       "      <td>United States</td>\n",
       "      <td>...</td>\n",
       "      <td>2013-04-13</td>\n",
       "      <td>2-5 Miles</td>\n",
       "      <td>0</td>\n",
       "      <td>40K TO 80K</td>\n",
       "      <td>2</td>\n",
       "      <td>29.4800</td>\n",
       "      <td>18.4544</td>\n",
       "      <td>1</td>\n",
       "      <td>2</td>\n",
       "      <td>1</td>\n",
       "    </tr>\n",
       "    <tr>\n",
       "      <th>5</th>\n",
       "      <td>27082</td>\n",
       "      <td>1</td>\n",
       "      <td>782.9900</td>\n",
       "      <td>1</td>\n",
       "      <td>1</td>\n",
       "      <td>M</td>\n",
       "      <td>1</td>\n",
       "      <td>1</td>\n",
       "      <td>Canada</td>\n",
       "      <td>Canada</td>\n",
       "      <td>...</td>\n",
       "      <td>2012-04-22</td>\n",
       "      <td>2-5 Miles</td>\n",
       "      <td>0</td>\n",
       "      <td>40K TO 80K</td>\n",
       "      <td>1</td>\n",
       "      <td>782.9900</td>\n",
       "      <td>296.2834</td>\n",
       "      <td>1</td>\n",
       "      <td>1</td>\n",
       "      <td>1</td>\n",
       "    </tr>\n",
       "    <tr>\n",
       "      <th>9</th>\n",
       "      <td>11576</td>\n",
       "      <td>1</td>\n",
       "      <td>2243.2048</td>\n",
       "      <td>3</td>\n",
       "      <td>2</td>\n",
       "      <td>M</td>\n",
       "      <td>1</td>\n",
       "      <td>1</td>\n",
       "      <td>France</td>\n",
       "      <td>France</td>\n",
       "      <td>...</td>\n",
       "      <td>2012-12-15</td>\n",
       "      <td>0-1 Miles</td>\n",
       "      <td>2</td>\n",
       "      <td>Below 40k</td>\n",
       "      <td>3</td>\n",
       "      <td>4486.4096</td>\n",
       "      <td>2071.6924</td>\n",
       "      <td>2</td>\n",
       "      <td>1</td>\n",
       "      <td>1</td>\n",
       "    </tr>\n",
       "    <tr>\n",
       "      <th>13</th>\n",
       "      <td>25516</td>\n",
       "      <td>1</td>\n",
       "      <td>21.4900</td>\n",
       "      <td>1</td>\n",
       "      <td>1</td>\n",
       "      <td>F</td>\n",
       "      <td>0</td>\n",
       "      <td>1</td>\n",
       "      <td>Germany</td>\n",
       "      <td>Germany</td>\n",
       "      <td>...</td>\n",
       "      <td>2013-03-29</td>\n",
       "      <td>0-1 Miles</td>\n",
       "      <td>2</td>\n",
       "      <td>Below 40k</td>\n",
       "      <td>1</td>\n",
       "      <td>21.4900</td>\n",
       "      <td>13.4527</td>\n",
       "      <td>1</td>\n",
       "      <td>1</td>\n",
       "      <td>1</td>\n",
       "    </tr>\n",
       "  </tbody>\n",
       "</table>\n",
       "<p>5 rows × 24 columns</p>\n",
       "</div>"
      ],
      "text/plain": [
       "    CustomerKey  AverageVisitPerMonth  AverageSpentEachMonth  TotalVisit  \\\n",
       "1         22814                     1                 4.9900           1   \n",
       "4         18546                     2                29.4800           2   \n",
       "5         27082                     1               782.9900           1   \n",
       "9         11576                     1              2243.2048           3   \n",
       "13        25516                     1                21.4900           1   \n",
       "\n",
       "    TotalMonth Gender  TotalChildren  HouseOwnerFlag SalesTerritoryRegion  \\\n",
       "1            1      M              2               1               France   \n",
       "4            1      F              1               1            Southeast   \n",
       "5            1      M              1               1               Canada   \n",
       "9            2      M              1               1               France   \n",
       "13           1      F              0               1              Germany   \n",
       "\n",
       "   SalesTerritoryCountry  ... DateFirstPurchase CommuteDistance  \\\n",
       "1                 France  ...        2013-03-24       10+ Miles   \n",
       "4          United States  ...        2013-04-13       2-5 Miles   \n",
       "5                 Canada  ...        2012-04-22       2-5 Miles   \n",
       "9                 France  ...        2012-12-15       0-1 Miles   \n",
       "13               Germany  ...        2013-03-29       0-1 Miles   \n",
       "\n",
       "   NumberCarsOwned  YearlyIncomeBand TotalOrderNumber TotalSpent  TotalProfit  \\\n",
       "1                4       80k to 120k                1     4.9900       3.1237   \n",
       "4                0        40K TO 80K                2    29.4800      18.4544   \n",
       "5                0        40K TO 80K                1   782.9900     296.2834   \n",
       "9                2         Below 40k                3  4486.4096    2071.6924   \n",
       "13               2         Below 40k                1    21.4900      13.4527   \n",
       "\n",
       "   TotalTransaction  AverageBasket  ChurnTarget  \n",
       "1                 1              1            1  \n",
       "4                 1              2            1  \n",
       "5                 1              1            1  \n",
       "9                 2              1            1  \n",
       "13                1              1            1  \n",
       "\n",
       "[5 rows x 24 columns]"
      ]
     },
     "execution_count": 105,
     "metadata": {},
     "output_type": "execute_result"
    }
   ],
   "source": [
    "training_df.head()"
   ]
  },
  {
   "cell_type": "code",
   "execution_count": 106,
   "metadata": {},
   "outputs": [],
   "source": [
    "training_df.to_csv(\"training_1.csv\")\n",
    "result_non_churner_predict.to_csv(\"prediction.csv\")"
   ]
  },
  {
   "cell_type": "code",
   "execution_count": 107,
   "metadata": {},
   "outputs": [],
   "source": [
    "customerKey_churn_predict = result_non_churner_predict['CustomerKey']\n",
    "training_df = training_df.drop(['CustomerKey'], axis=1)\n",
    "result_non_churner_predict= result_non_churner_predict.drop(['CustomerKey'], axis=1)"
   ]
  },
  {
   "cell_type": "code",
   "execution_count": 108,
   "metadata": {},
   "outputs": [
    {
     "name": "stdout",
     "output_type": "stream",
     "text": [
      "<class 'pandas.core.frame.DataFrame'>\n",
      "Int64Index: 11348 entries, 1 to 8323\n",
      "Data columns (total 23 columns):\n",
      "AverageVisitPerMonth     11348 non-null int64\n",
      "AverageSpentEachMonth    11348 non-null float64\n",
      "TotalVisit               11348 non-null int64\n",
      "TotalMonth               11348 non-null int64\n",
      "Gender                   11348 non-null object\n",
      "TotalChildren            11348 non-null int64\n",
      "HouseOwnerFlag           11348 non-null int64\n",
      "SalesTerritoryRegion     11348 non-null object\n",
      "SalesTerritoryCountry    11348 non-null object\n",
      "SalesTerritoryGroup      11348 non-null object\n",
      "EnglishEducation         11348 non-null object\n",
      "EnglishOccupation        11348 non-null object\n",
      "Age                      11348 non-null int64\n",
      "DateFirstPurchase        11348 non-null object\n",
      "CommuteDistance          11348 non-null object\n",
      "NumberCarsOwned          11348 non-null int64\n",
      "YearlyIncomeBand         11348 non-null object\n",
      "TotalOrderNumber         11348 non-null int64\n",
      "TotalSpent               11348 non-null float64\n",
      "TotalProfit              11348 non-null float64\n",
      "TotalTransaction         11348 non-null int64\n",
      "AverageBasket            11348 non-null int64\n",
      "ChurnTarget              11348 non-null int64\n",
      "dtypes: float64(3), int64(11), object(9)\n",
      "memory usage: 2.1+ MB\n"
     ]
    }
   ],
   "source": [
    " training_df.info()"
   ]
  },
  {
   "cell_type": "code",
   "execution_count": 109,
   "metadata": {},
   "outputs": [],
   "source": [
    "#So, We have 21 columns out of which 1 is target, distinguisg the data into types of data \n",
    "Numerical_dataset = ['Age','AverageVisitPerMonth', 'AverageSpentEachMonth', 'TotalVisit','TotalMonth', 'TotalChildren', 'NumberCarsOwned', 'TotalOrderNumber', 'TotalSpent', 'TotalProfit', 'TotalTransaction' , 'AverageBasket' ]\n",
    "Ordinal_dataset = ['YearlyIncomeBand','CommuteDistance','EnglishEducation']\n",
    "nominal_dataset = ['Gender', 'HouseOwnerFlag','SalesTerritoryRegion', 'SalesTerritoryCountry','SalesTerritoryGroup', 'EnglishOccupation']"
   ]
  },
  {
   "cell_type": "markdown",
   "metadata": {},
   "source": [
    "## 2. DATA TRANSFORMATION AND EXPLORATION"
   ]
  },
  {
   "cell_type": "markdown",
   "metadata": {},
   "source": [
    "### i. Exploring target column: churn"
   ]
  },
  {
   "cell_type": "code",
   "execution_count": 110,
   "metadata": {},
   "outputs": [
    {
     "data": {
      "image/png": "[encoded data removed]",
      "text/plain": [
       "<Figure size 432x288 with 1 Axes>"
      ]
     },
     "metadata": {},
     "output_type": "display_data"
    }
   ],
   "source": [
    "total_data,total_columns = training_df.shape\n",
    "#Exploring \n",
    "target_non_churners,target_churners=training_df.groupby('ChurnTarget').size()\n",
    "pie_slice = [target_churners, target_non_churners]\n",
    "labels = ['Churners','Non-Churners' ]\n",
    "colours = ['c','m']\n",
    "plt.pie(pie_slice,labels=labels,colors=colours,shadow=True,explode=(0.05,0.05), autopct='%1.2f%%')\n",
    "plt.show()\n"
   ]
  },
  {
   "cell_type": "code",
   "execution_count": 111,
   "metadata": {},
   "outputs": [
    {
     "data": {
      "text/plain": [
       "5511"
      ]
     },
     "execution_count": 111,
     "metadata": {},
     "output_type": "execute_result"
    }
   ],
   "source": [
    "#total churners\n",
    "target_churners"
   ]
  },
  {
   "cell_type": "code",
   "execution_count": 112,
   "metadata": {},
   "outputs": [
    {
     "data": {
      "text/plain": [
       "5837"
      ]
     },
     "execution_count": 112,
     "metadata": {},
     "output_type": "execute_result"
    }
   ],
   "source": [
    "#total non-churners\n",
    "target_non_churners"
   ]
  },
  {
   "cell_type": "code",
   "execution_count": 113,
   "metadata": {},
   "outputs": [
    {
     "data": {
      "text/html": [
       "<div>\n",
       "<style scoped>\n",
       "    .dataframe tbody tr th:only-of-type {\n",
       "        vertical-align: middle;\n",
       "    }\n",
       "\n",
       "    .dataframe tbody tr th {\n",
       "        vertical-align: top;\n",
       "    }\n",
       "\n",
       "    .dataframe thead th {\n",
       "        text-align: right;\n",
       "    }\n",
       "</style>\n",
       "<table border=\"1\" class=\"dataframe\">\n",
       "  <thead>\n",
       "    <tr style=\"text-align: right;\">\n",
       "      <th></th>\n",
       "      <th>Age</th>\n",
       "      <th>AverageVisitPerMonth</th>\n",
       "      <th>AverageSpentEachMonth</th>\n",
       "      <th>TotalVisit</th>\n",
       "      <th>TotalMonth</th>\n",
       "      <th>TotalChildren</th>\n",
       "      <th>NumberCarsOwned</th>\n",
       "      <th>TotalOrderNumber</th>\n",
       "      <th>TotalSpent</th>\n",
       "      <th>TotalProfit</th>\n",
       "      <th>TotalTransaction</th>\n",
       "      <th>AverageBasket</th>\n",
       "    </tr>\n",
       "  </thead>\n",
       "  <tbody>\n",
       "    <tr>\n",
       "      <th>count</th>\n",
       "      <td>11348.000000</td>\n",
       "      <td>11348.000000</td>\n",
       "      <td>11348.000000</td>\n",
       "      <td>11348.000000</td>\n",
       "      <td>11348.000000</td>\n",
       "      <td>11348.000000</td>\n",
       "      <td>11348.000000</td>\n",
       "      <td>11348.000000</td>\n",
       "      <td>11348.000000</td>\n",
       "      <td>11348.000000</td>\n",
       "      <td>11348.000000</td>\n",
       "      <td>11348.000000</td>\n",
       "    </tr>\n",
       "    <tr>\n",
       "      <th>mean</th>\n",
       "      <td>51.141611</td>\n",
       "      <td>2.199859</td>\n",
       "      <td>981.760831</td>\n",
       "      <td>3.106362</td>\n",
       "      <td>1.373105</td>\n",
       "      <td>1.827547</td>\n",
       "      <td>1.487134</td>\n",
       "      <td>3.106362</td>\n",
       "      <td>1557.873277</td>\n",
       "      <td>638.122065</td>\n",
       "      <td>1.430825</td>\n",
       "      <td>2.120990</td>\n",
       "    </tr>\n",
       "    <tr>\n",
       "      <th>std</th>\n",
       "      <td>11.617237</td>\n",
       "      <td>1.027888</td>\n",
       "      <td>1143.389900</td>\n",
       "      <td>2.333041</td>\n",
       "      <td>0.665420</td>\n",
       "      <td>1.605696</td>\n",
       "      <td>1.131097</td>\n",
       "      <td>2.333041</td>\n",
       "      <td>2063.124660</td>\n",
       "      <td>846.532080</td>\n",
       "      <td>0.943205</td>\n",
       "      <td>0.969113</td>\n",
       "    </tr>\n",
       "    <tr>\n",
       "      <th>min</th>\n",
       "      <td>34.000000</td>\n",
       "      <td>1.000000</td>\n",
       "      <td>2.290000</td>\n",
       "      <td>1.000000</td>\n",
       "      <td>1.000000</td>\n",
       "      <td>0.000000</td>\n",
       "      <td>0.000000</td>\n",
       "      <td>1.000000</td>\n",
       "      <td>2.290000</td>\n",
       "      <td>1.433500</td>\n",
       "      <td>1.000000</td>\n",
       "      <td>1.000000</td>\n",
       "    </tr>\n",
       "    <tr>\n",
       "      <th>25%</th>\n",
       "      <td>42.000000</td>\n",
       "      <td>1.000000</td>\n",
       "      <td>39.980000</td>\n",
       "      <td>2.000000</td>\n",
       "      <td>1.000000</td>\n",
       "      <td>0.000000</td>\n",
       "      <td>1.000000</td>\n",
       "      <td>2.000000</td>\n",
       "      <td>48.970000</td>\n",
       "      <td>25.199425</td>\n",
       "      <td>1.000000</td>\n",
       "      <td>1.000000</td>\n",
       "    </tr>\n",
       "    <tr>\n",
       "      <th>50%</th>\n",
       "      <td>49.000000</td>\n",
       "      <td>2.000000</td>\n",
       "      <td>188.480000</td>\n",
       "      <td>3.000000</td>\n",
       "      <td>1.000000</td>\n",
       "      <td>2.000000</td>\n",
       "      <td>1.000000</td>\n",
       "      <td>3.000000</td>\n",
       "      <td>303.290000</td>\n",
       "      <td>178.825950</td>\n",
       "      <td>1.000000</td>\n",
       "      <td>2.000000</td>\n",
       "    </tr>\n",
       "    <tr>\n",
       "      <th>75%</th>\n",
       "      <td>59.000000</td>\n",
       "      <td>3.000000</td>\n",
       "      <td>2049.098200</td>\n",
       "      <td>4.000000</td>\n",
       "      <td>2.000000</td>\n",
       "      <td>3.000000</td>\n",
       "      <td>2.000000</td>\n",
       "      <td>4.000000</td>\n",
       "      <td>2480.202500</td>\n",
       "      <td>1065.970500</td>\n",
       "      <td>2.000000</td>\n",
       "      <td>3.000000</td>\n",
       "    </tr>\n",
       "    <tr>\n",
       "      <th>max</th>\n",
       "      <td>104.000000</td>\n",
       "      <td>8.000000</td>\n",
       "      <td>6090.590000</td>\n",
       "      <td>62.000000</td>\n",
       "      <td>11.000000</td>\n",
       "      <td>5.000000</td>\n",
       "      <td>4.000000</td>\n",
       "      <td>62.000000</td>\n",
       "      <td>13295.380000</td>\n",
       "      <td>5273.810000</td>\n",
       "      <td>27.000000</td>\n",
       "      <td>8.000000</td>\n",
       "    </tr>\n",
       "  </tbody>\n",
       "</table>\n",
       "</div>"
      ],
      "text/plain": [
       "                Age  AverageVisitPerMonth  AverageSpentEachMonth  \\\n",
       "count  11348.000000          11348.000000           11348.000000   \n",
       "mean      51.141611              2.199859             981.760831   \n",
       "std       11.617237              1.027888            1143.389900   \n",
       "min       34.000000              1.000000               2.290000   \n",
       "25%       42.000000              1.000000              39.980000   \n",
       "50%       49.000000              2.000000             188.480000   \n",
       "75%       59.000000              3.000000            2049.098200   \n",
       "max      104.000000              8.000000            6090.590000   \n",
       "\n",
       "         TotalVisit    TotalMonth  TotalChildren  NumberCarsOwned  \\\n",
       "count  11348.000000  11348.000000   11348.000000     11348.000000   \n",
       "mean       3.106362      1.373105       1.827547         1.487134   \n",
       "std        2.333041      0.665420       1.605696         1.131097   \n",
       "min        1.000000      1.000000       0.000000         0.000000   \n",
       "25%        2.000000      1.000000       0.000000         1.000000   \n",
       "50%        3.000000      1.000000       2.000000         1.000000   \n",
       "75%        4.000000      2.000000       3.000000         2.000000   \n",
       "max       62.000000     11.000000       5.000000         4.000000   \n",
       "\n",
       "       TotalOrderNumber    TotalSpent   TotalProfit  TotalTransaction  \\\n",
       "count      11348.000000  11348.000000  11348.000000      11348.000000   \n",
       "mean           3.106362   1557.873277    638.122065          1.430825   \n",
       "std            2.333041   2063.124660    846.532080          0.943205   \n",
       "min            1.000000      2.290000      1.433500          1.000000   \n",
       "25%            2.000000     48.970000     25.199425          1.000000   \n",
       "50%            3.000000    303.290000    178.825950          1.000000   \n",
       "75%            4.000000   2480.202500   1065.970500          2.000000   \n",
       "max           62.000000  13295.380000   5273.810000         27.000000   \n",
       "\n",
       "       AverageBasket  \n",
       "count   11348.000000  \n",
       "mean        2.120990  \n",
       "std         0.969113  \n",
       "min         1.000000  \n",
       "25%         1.000000  \n",
       "50%         2.000000  \n",
       "75%         3.000000  \n",
       "max         8.000000  "
      ]
     },
     "execution_count": 113,
     "metadata": {},
     "output_type": "execute_result"
    }
   ],
   "source": [
    "training_df[Numerical_dataset].describe()"
   ]
  },
  {
   "cell_type": "markdown",
   "metadata": {},
   "source": [
    "### ii. Exploring other columns"
   ]
  },
  {
   "cell_type": "markdown",
   "metadata": {},
   "source": [
    "#### exploring missing data"
   ]
  },
  {
   "cell_type": "code",
   "execution_count": 114,
   "metadata": {},
   "outputs": [
    {
     "data": {
      "text/html": [
       "<div>\n",
       "<style scoped>\n",
       "    .dataframe tbody tr th:only-of-type {\n",
       "        vertical-align: middle;\n",
       "    }\n",
       "\n",
       "    .dataframe tbody tr th {\n",
       "        vertical-align: top;\n",
       "    }\n",
       "\n",
       "    .dataframe thead th {\n",
       "        text-align: right;\n",
       "    }\n",
       "</style>\n",
       "<table border=\"1\" class=\"dataframe\">\n",
       "  <thead>\n",
       "    <tr style=\"text-align: right;\">\n",
       "      <th></th>\n",
       "      <th>total_missing</th>\n",
       "      <th>perc_missing</th>\n",
       "    </tr>\n",
       "  </thead>\n",
       "  <tbody>\n",
       "    <tr>\n",
       "      <th>AverageVisitPerMonth</th>\n",
       "      <td>0</td>\n",
       "      <td>0.0</td>\n",
       "    </tr>\n",
       "    <tr>\n",
       "      <th>AverageSpentEachMonth</th>\n",
       "      <td>0</td>\n",
       "      <td>0.0</td>\n",
       "    </tr>\n",
       "    <tr>\n",
       "      <th>TotalVisit</th>\n",
       "      <td>0</td>\n",
       "      <td>0.0</td>\n",
       "    </tr>\n",
       "    <tr>\n",
       "      <th>TotalMonth</th>\n",
       "      <td>0</td>\n",
       "      <td>0.0</td>\n",
       "    </tr>\n",
       "    <tr>\n",
       "      <th>Gender</th>\n",
       "      <td>0</td>\n",
       "      <td>0.0</td>\n",
       "    </tr>\n",
       "    <tr>\n",
       "      <th>TotalChildren</th>\n",
       "      <td>0</td>\n",
       "      <td>0.0</td>\n",
       "    </tr>\n",
       "    <tr>\n",
       "      <th>HouseOwnerFlag</th>\n",
       "      <td>0</td>\n",
       "      <td>0.0</td>\n",
       "    </tr>\n",
       "    <tr>\n",
       "      <th>SalesTerritoryRegion</th>\n",
       "      <td>0</td>\n",
       "      <td>0.0</td>\n",
       "    </tr>\n",
       "    <tr>\n",
       "      <th>SalesTerritoryCountry</th>\n",
       "      <td>0</td>\n",
       "      <td>0.0</td>\n",
       "    </tr>\n",
       "    <tr>\n",
       "      <th>SalesTerritoryGroup</th>\n",
       "      <td>0</td>\n",
       "      <td>0.0</td>\n",
       "    </tr>\n",
       "    <tr>\n",
       "      <th>EnglishEducation</th>\n",
       "      <td>0</td>\n",
       "      <td>0.0</td>\n",
       "    </tr>\n",
       "    <tr>\n",
       "      <th>EnglishOccupation</th>\n",
       "      <td>0</td>\n",
       "      <td>0.0</td>\n",
       "    </tr>\n",
       "    <tr>\n",
       "      <th>Age</th>\n",
       "      <td>0</td>\n",
       "      <td>0.0</td>\n",
       "    </tr>\n",
       "    <tr>\n",
       "      <th>DateFirstPurchase</th>\n",
       "      <td>0</td>\n",
       "      <td>0.0</td>\n",
       "    </tr>\n",
       "    <tr>\n",
       "      <th>CommuteDistance</th>\n",
       "      <td>0</td>\n",
       "      <td>0.0</td>\n",
       "    </tr>\n",
       "    <tr>\n",
       "      <th>NumberCarsOwned</th>\n",
       "      <td>0</td>\n",
       "      <td>0.0</td>\n",
       "    </tr>\n",
       "    <tr>\n",
       "      <th>YearlyIncomeBand</th>\n",
       "      <td>0</td>\n",
       "      <td>0.0</td>\n",
       "    </tr>\n",
       "    <tr>\n",
       "      <th>TotalOrderNumber</th>\n",
       "      <td>0</td>\n",
       "      <td>0.0</td>\n",
       "    </tr>\n",
       "    <tr>\n",
       "      <th>TotalSpent</th>\n",
       "      <td>0</td>\n",
       "      <td>0.0</td>\n",
       "    </tr>\n",
       "    <tr>\n",
       "      <th>TotalProfit</th>\n",
       "      <td>0</td>\n",
       "      <td>0.0</td>\n",
       "    </tr>\n",
       "    <tr>\n",
       "      <th>TotalTransaction</th>\n",
       "      <td>0</td>\n",
       "      <td>0.0</td>\n",
       "    </tr>\n",
       "    <tr>\n",
       "      <th>AverageBasket</th>\n",
       "      <td>0</td>\n",
       "      <td>0.0</td>\n",
       "    </tr>\n",
       "    <tr>\n",
       "      <th>ChurnTarget</th>\n",
       "      <td>0</td>\n",
       "      <td>0.0</td>\n",
       "    </tr>\n",
       "  </tbody>\n",
       "</table>\n",
       "</div>"
      ],
      "text/plain": [
       "                       total_missing  perc_missing\n",
       "AverageVisitPerMonth               0           0.0\n",
       "AverageSpentEachMonth              0           0.0\n",
       "TotalVisit                         0           0.0\n",
       "TotalMonth                         0           0.0\n",
       "Gender                             0           0.0\n",
       "TotalChildren                      0           0.0\n",
       "HouseOwnerFlag                     0           0.0\n",
       "SalesTerritoryRegion               0           0.0\n",
       "SalesTerritoryCountry              0           0.0\n",
       "SalesTerritoryGroup                0           0.0\n",
       "EnglishEducation                   0           0.0\n",
       "EnglishOccupation                  0           0.0\n",
       "Age                                0           0.0\n",
       "DateFirstPurchase                  0           0.0\n",
       "CommuteDistance                    0           0.0\n",
       "NumberCarsOwned                    0           0.0\n",
       "YearlyIncomeBand                   0           0.0\n",
       "TotalOrderNumber                   0           0.0\n",
       "TotalSpent                         0           0.0\n",
       "TotalProfit                        0           0.0\n",
       "TotalTransaction                   0           0.0\n",
       "AverageBasket                      0           0.0\n",
       "ChurnTarget                        0           0.0"
      ]
     },
     "execution_count": 114,
     "metadata": {},
     "output_type": "execute_result"
    }
   ],
   "source": [
    "missing_data = pd.DataFrame({'total_missing': training_df.isnull().sum(), 'perc_missing': (training_df.isnull().sum()/82790)*100})\n",
    "missing_data"
   ]
  },
  {
   "cell_type": "code",
   "execution_count": 115,
   "metadata": {},
   "outputs": [],
   "source": [
    "def categorical_eda(df):\n",
    "    \"\"\"Given dataframe, generate EDA of categorical data\"\"\"\n",
    "    print(\"To check: Unique count of non-numeric data\")\n",
    "    print(df.select_dtypes(include=['category']).nunique())\n",
    "    \n",
    "    # Plot count distribution of categorical data\n",
    "    for col in df.select_dtypes(include='category').columns:\n",
    "        fig = sns.catplot(x=col, kind=\"count\", data=df)\n",
    "        fig.set_xticklabels(rotation=90)\n",
    "        plt.show()"
   ]
  },
  {
   "cell_type": "code",
   "execution_count": 116,
   "metadata": {},
   "outputs": [
    {
     "name": "stdout",
     "output_type": "stream",
     "text": [
      "To check: Unique count of non-numeric data\n",
      "Empty DataFrame\n",
      "Columns: []\n",
      "Index: [1, 4, 5, 9, 13, 21, 27, 31, 45, 50, 52, 53, 61, 63, 65, 70, 72, 74, 76, 80, 81, 84, 86, 93, 99, 101, 107, 109, 112, 115, 126, 130, 132, 133, 134, 139, 141, 142, 144, 147, 149, 152, 153, 157, 160, 161, 163, 173, 178, 185, 194, 195, 196, 198, 200, 201, 208, 210, 214, 223, 224, 229, 231, 237, 239, 241, 243, 253, 258, 259, 261, 262, 263, 265, 267, 268, 275, 283, 285, 286, 292, 294, 295, 296, 299, 306, 307, 313, 318, 319, 320, 321, 327, 330, 331, 334, 335, 338, 341, 348, ...]\n",
      "\n",
      "[11348 rows x 0 columns]\n"
     ]
    }
   ],
   "source": [
    "categorical_eda(training_df)"
   ]
  },
  {
   "cell_type": "markdown",
   "metadata": {
    "scrolled": true
   },
   "source": [
    "## BoxPlot of numerical variables"
   ]
  },
  {
   "cell_type": "code",
   "execution_count": 117,
   "metadata": {},
   "outputs": [
    {
     "data": {
      "image/png": "[encoded data removed]",
      "text/plain": [
       "<Figure size 1296x648 with 1 Axes>"
      ]
     },
     "metadata": {
      "needs_background": "light"
     },
     "output_type": "display_data"
    }
   ],
   "source": [
    "\n",
    "plt.figure(figsize=(18,9))\n",
    "training_df[Numerical_dataset].boxplot()\n",
    "plt.title(\"Numerical variables in Modcloth dataset\", fontsize=20)\n",
    "plt.show()\n"
   ]
  },
  {
   "cell_type": "markdown",
   "metadata": {},
   "source": [
    "Box plot shows no particular outliers except for Money Spent, which we know can vary widely. SO, we remove nothing for now."
   ]
  },
  {
   "cell_type": "code",
   "execution_count": 118,
   "metadata": {},
   "outputs": [
    {
     "data": {
      "image/png": "[encoded data removed]",
      "text/plain": [
       "<Figure size 1332x900 with 2 Axes>"
      ]
     },
     "metadata": {
      "needs_background": "light"
     },
     "output_type": "display_data"
    }
   ],
   "source": [
    "#function that is used to plot correlation between each features\n",
    "def correlation_matrix(data):\n",
    "    crln = data.corr()\n",
    "    fig = plt.figure()\n",
    "    fig.set_size_inches(18.5, 12.5, forward=True)\n",
    "    crn_mat = fig.add_subplot(111)\n",
    "    cax = crn_mat.matshow(crln, vmin=-1, vmax=1)\n",
    "    plt.subplots_adjust(left=0.1, right=1.0, bottom=0.1, top=1.0)\n",
    "    fig.colorbar(cax)\n",
    "    ticks = np.arange(0,len(list(data)),1)\n",
    "    crn_mat.set_xticks(ticks)\n",
    "    crn_mat.set_yticks(ticks)\n",
    "    crn_mat.set_xticklabels(list(data))\n",
    "    crn_mat.set_yticklabels(list(data))\n",
    "    plt.show()\n",
    "correlation_matrix(training_df[Numerical_dataset+ ['ChurnTarget']])"
   ]
  },
  {
   "cell_type": "code",
   "execution_count": 119,
   "metadata": {},
   "outputs": [
    {
     "name": "stdout",
     "output_type": "stream",
     "text": [
      "                            Age  AverageVisitPerMonth  AverageSpentEachMonth  \\\n",
      "Age                    1.000000              0.029815              -0.065233   \n",
      "AverageVisitPerMonth   0.029815              1.000000              -0.080057   \n",
      "AverageSpentEachMonth -0.065233             -0.080057               1.000000   \n",
      "TotalVisit            -0.011351              0.421250               0.139562   \n",
      "TotalMonth            -0.044525             -0.164951               0.275790   \n",
      "TotalChildren          0.489881              0.025583              -0.080200   \n",
      "NumberCarsOwned        0.192259              0.018282              -0.091301   \n",
      "TotalOrderNumber      -0.011351              0.421250               0.139562   \n",
      "TotalSpent            -0.052697             -0.150183               0.886095   \n",
      "TotalProfit           -0.049438             -0.143360               0.876599   \n",
      "TotalTransaction      -0.033976             -0.025553               0.241036   \n",
      "AverageBasket          0.033875              0.919880              -0.178763   \n",
      "ChurnTarget           -0.006791             -0.055823               0.046991   \n",
      "\n",
      "                       TotalVisit  TotalMonth  TotalChildren  NumberCarsOwned  \\\n",
      "Age                     -0.011351   -0.044525       0.489881         0.192259   \n",
      "AverageVisitPerMonth     0.421250   -0.164951       0.025583         0.018282   \n",
      "AverageSpentEachMonth    0.139562    0.275790      -0.080200        -0.091301   \n",
      "TotalVisit               1.000000    0.756636       0.003509         0.012725   \n",
      "TotalMonth               0.756636    1.000000      -0.027700        -0.004745   \n",
      "TotalChildren            0.003509   -0.027700       1.000000         0.261268   \n",
      "NumberCarsOwned          0.012725   -0.004745       0.261268         1.000000   \n",
      "TotalOrderNumber         1.000000    0.756636       0.003509         0.012725   \n",
      "TotalSpent               0.297394    0.539876      -0.065844        -0.051740   \n",
      "TotalProfit              0.311327    0.549830      -0.060455        -0.045827   \n",
      "TotalTransaction         0.857286    0.899490      -0.018381         0.005072   \n",
      "AverageBasket            0.318880   -0.207764       0.034931         0.007892   \n",
      "ChurnTarget             -0.176483   -0.193219      -0.004459        -0.017708   \n",
      "\n",
      "                       TotalOrderNumber  TotalSpent  TotalProfit  \\\n",
      "Age                           -0.011351   -0.052697    -0.049438   \n",
      "AverageVisitPerMonth           0.421250   -0.150183    -0.143360   \n",
      "AverageSpentEachMonth          0.139562    0.886095     0.876599   \n",
      "TotalVisit                     1.000000    0.297394     0.311327   \n",
      "TotalMonth                     0.756636    0.539876     0.549830   \n",
      "TotalChildren                  0.003509   -0.065844    -0.060455   \n",
      "NumberCarsOwned                0.012725   -0.051740    -0.045827   \n",
      "TotalOrderNumber               1.000000    0.297394     0.311327   \n",
      "TotalSpent                     0.297394    1.000000     0.997147   \n",
      "TotalProfit                    0.311327    0.997147     1.000000   \n",
      "TotalTransaction               0.857286    0.422635     0.434252   \n",
      "AverageBasket                  0.318880   -0.218105    -0.214231   \n",
      "ChurnTarget                   -0.176483   -0.027378    -0.037123   \n",
      "\n",
      "                       TotalTransaction  AverageBasket  ChurnTarget  \n",
      "Age                           -0.033976       0.033875    -0.006791  \n",
      "AverageVisitPerMonth          -0.025553       0.919880    -0.055823  \n",
      "AverageSpentEachMonth          0.241036      -0.178763     0.046991  \n",
      "TotalVisit                     0.857286       0.318880    -0.176483  \n",
      "TotalMonth                     0.899490      -0.207764    -0.193219  \n",
      "TotalChildren                 -0.018381       0.034931    -0.004459  \n",
      "NumberCarsOwned                0.005072       0.007892    -0.017708  \n",
      "TotalOrderNumber               0.857286       0.318880    -0.176483  \n",
      "TotalSpent                     0.422635      -0.218105    -0.027378  \n",
      "TotalProfit                    0.434252      -0.214231    -0.037123  \n",
      "TotalTransaction               1.000000      -0.167810    -0.170354  \n",
      "AverageBasket                 -0.167810       1.000000    -0.027797  \n",
      "ChurnTarget                   -0.170354      -0.027797     1.000000  \n"
     ]
    },
    {
     "data": {
      "image/png": "[encoded data removed]",
      "text/plain": [
       "<Figure size 432x288 with 2 Axes>"
      ]
     },
     "metadata": {
      "needs_background": "light"
     },
     "output_type": "display_data"
    }
   ],
   "source": [
    "#pearson correlation \n",
    "cor=training_df[Numerical_dataset+ ['ChurnTarget']].corr(method='pearson')\n",
    "# Printing correlation in matrix\n",
    "print (cor)\n",
    "\n",
    "# Printing correlation in heat matrix\n",
    "colormap=plt.cm.viridis\n",
    "\n",
    "sns.heatmap(cor,cmap=colormap,linewidths=0.1,linecolor='white',annot=True)\n",
    "plt.show()"
   ]
  },
  {
   "cell_type": "code",
   "execution_count": 120,
   "metadata": {},
   "outputs": [
    {
     "data": {
      "image/png": "[encoded data removed]",
      "text/plain": [
       "<Figure size 432x288 with 2 Axes>"
      ]
     },
     "metadata": {
      "needs_background": "light"
     },
     "output_type": "display_data"
    }
   ],
   "source": [
    "colormap=plt.cm.viridis\n",
    "plt.tick_params(labelsize=15)\n",
    "plt.tick_params(labelsize=30)\n",
    "\n",
    "plt.tick_params(labelsize=30)\n",
    "sns.heatmap(cor,cmap=colormap,linewidths=0.3,linecolor='white',annot=True)\n",
    "plt.show()"
   ]
  },
  {
   "cell_type": "code",
   "execution_count": 121,
   "metadata": {},
   "outputs": [
    {
     "data": {
      "text/html": [
       "<div>\n",
       "<style scoped>\n",
       "    .dataframe tbody tr th:only-of-type {\n",
       "        vertical-align: middle;\n",
       "    }\n",
       "\n",
       "    .dataframe tbody tr th {\n",
       "        vertical-align: top;\n",
       "    }\n",
       "\n",
       "    .dataframe thead th {\n",
       "        text-align: right;\n",
       "    }\n",
       "</style>\n",
       "<table border=\"1\" class=\"dataframe\">\n",
       "  <thead>\n",
       "    <tr style=\"text-align: right;\">\n",
       "      <th></th>\n",
       "      <th>Age</th>\n",
       "      <th>AverageVisitPerMonth</th>\n",
       "      <th>AverageSpentEachMonth</th>\n",
       "      <th>TotalVisit</th>\n",
       "      <th>TotalMonth</th>\n",
       "      <th>TotalChildren</th>\n",
       "      <th>NumberCarsOwned</th>\n",
       "      <th>TotalOrderNumber</th>\n",
       "      <th>TotalSpent</th>\n",
       "      <th>TotalProfit</th>\n",
       "      <th>TotalTransaction</th>\n",
       "      <th>AverageBasket</th>\n",
       "      <th>ChurnTarget</th>\n",
       "    </tr>\n",
       "  </thead>\n",
       "  <tbody>\n",
       "    <tr>\n",
       "      <th>Age</th>\n",
       "      <td>1.000000</td>\n",
       "      <td>0.029815</td>\n",
       "      <td>-0.065233</td>\n",
       "      <td>-0.011351</td>\n",
       "      <td>-0.044525</td>\n",
       "      <td>0.489881</td>\n",
       "      <td>0.192259</td>\n",
       "      <td>-0.011351</td>\n",
       "      <td>-0.052697</td>\n",
       "      <td>-0.049438</td>\n",
       "      <td>-0.033976</td>\n",
       "      <td>0.033875</td>\n",
       "      <td>-0.006791</td>\n",
       "    </tr>\n",
       "    <tr>\n",
       "      <th>AverageVisitPerMonth</th>\n",
       "      <td>0.029815</td>\n",
       "      <td>1.000000</td>\n",
       "      <td>-0.080057</td>\n",
       "      <td>0.421250</td>\n",
       "      <td>-0.164951</td>\n",
       "      <td>0.025583</td>\n",
       "      <td>0.018282</td>\n",
       "      <td>0.421250</td>\n",
       "      <td>-0.150183</td>\n",
       "      <td>-0.143360</td>\n",
       "      <td>-0.025553</td>\n",
       "      <td>0.919880</td>\n",
       "      <td>-0.055823</td>\n",
       "    </tr>\n",
       "    <tr>\n",
       "      <th>AverageSpentEachMonth</th>\n",
       "      <td>-0.065233</td>\n",
       "      <td>-0.080057</td>\n",
       "      <td>1.000000</td>\n",
       "      <td>0.139562</td>\n",
       "      <td>0.275790</td>\n",
       "      <td>-0.080200</td>\n",
       "      <td>-0.091301</td>\n",
       "      <td>0.139562</td>\n",
       "      <td>0.886095</td>\n",
       "      <td>0.876599</td>\n",
       "      <td>0.241036</td>\n",
       "      <td>-0.178763</td>\n",
       "      <td>0.046991</td>\n",
       "    </tr>\n",
       "    <tr>\n",
       "      <th>TotalVisit</th>\n",
       "      <td>-0.011351</td>\n",
       "      <td>0.421250</td>\n",
       "      <td>0.139562</td>\n",
       "      <td>1.000000</td>\n",
       "      <td>0.756636</td>\n",
       "      <td>0.003509</td>\n",
       "      <td>0.012725</td>\n",
       "      <td>1.000000</td>\n",
       "      <td>0.297394</td>\n",
       "      <td>0.311327</td>\n",
       "      <td>0.857286</td>\n",
       "      <td>0.318880</td>\n",
       "      <td>-0.176483</td>\n",
       "    </tr>\n",
       "    <tr>\n",
       "      <th>TotalMonth</th>\n",
       "      <td>-0.044525</td>\n",
       "      <td>-0.164951</td>\n",
       "      <td>0.275790</td>\n",
       "      <td>0.756636</td>\n",
       "      <td>1.000000</td>\n",
       "      <td>-0.027700</td>\n",
       "      <td>-0.004745</td>\n",
       "      <td>0.756636</td>\n",
       "      <td>0.539876</td>\n",
       "      <td>0.549830</td>\n",
       "      <td>0.899490</td>\n",
       "      <td>-0.207764</td>\n",
       "      <td>-0.193219</td>\n",
       "    </tr>\n",
       "    <tr>\n",
       "      <th>TotalChildren</th>\n",
       "      <td>0.489881</td>\n",
       "      <td>0.025583</td>\n",
       "      <td>-0.080200</td>\n",
       "      <td>0.003509</td>\n",
       "      <td>-0.027700</td>\n",
       "      <td>1.000000</td>\n",
       "      <td>0.261268</td>\n",
       "      <td>0.003509</td>\n",
       "      <td>-0.065844</td>\n",
       "      <td>-0.060455</td>\n",
       "      <td>-0.018381</td>\n",
       "      <td>0.034931</td>\n",
       "      <td>-0.004459</td>\n",
       "    </tr>\n",
       "    <tr>\n",
       "      <th>NumberCarsOwned</th>\n",
       "      <td>0.192259</td>\n",
       "      <td>0.018282</td>\n",
       "      <td>-0.091301</td>\n",
       "      <td>0.012725</td>\n",
       "      <td>-0.004745</td>\n",
       "      <td>0.261268</td>\n",
       "      <td>1.000000</td>\n",
       "      <td>0.012725</td>\n",
       "      <td>-0.051740</td>\n",
       "      <td>-0.045827</td>\n",
       "      <td>0.005072</td>\n",
       "      <td>0.007892</td>\n",
       "      <td>-0.017708</td>\n",
       "    </tr>\n",
       "    <tr>\n",
       "      <th>TotalOrderNumber</th>\n",
       "      <td>-0.011351</td>\n",
       "      <td>0.421250</td>\n",
       "      <td>0.139562</td>\n",
       "      <td>1.000000</td>\n",
       "      <td>0.756636</td>\n",
       "      <td>0.003509</td>\n",
       "      <td>0.012725</td>\n",
       "      <td>1.000000</td>\n",
       "      <td>0.297394</td>\n",
       "      <td>0.311327</td>\n",
       "      <td>0.857286</td>\n",
       "      <td>0.318880</td>\n",
       "      <td>-0.176483</td>\n",
       "    </tr>\n",
       "    <tr>\n",
       "      <th>TotalSpent</th>\n",
       "      <td>-0.052697</td>\n",
       "      <td>-0.150183</td>\n",
       "      <td>0.886095</td>\n",
       "      <td>0.297394</td>\n",
       "      <td>0.539876</td>\n",
       "      <td>-0.065844</td>\n",
       "      <td>-0.051740</td>\n",
       "      <td>0.297394</td>\n",
       "      <td>1.000000</td>\n",
       "      <td>0.997147</td>\n",
       "      <td>0.422635</td>\n",
       "      <td>-0.218105</td>\n",
       "      <td>-0.027378</td>\n",
       "    </tr>\n",
       "    <tr>\n",
       "      <th>TotalProfit</th>\n",
       "      <td>-0.049438</td>\n",
       "      <td>-0.143360</td>\n",
       "      <td>0.876599</td>\n",
       "      <td>0.311327</td>\n",
       "      <td>0.549830</td>\n",
       "      <td>-0.060455</td>\n",
       "      <td>-0.045827</td>\n",
       "      <td>0.311327</td>\n",
       "      <td>0.997147</td>\n",
       "      <td>1.000000</td>\n",
       "      <td>0.434252</td>\n",
       "      <td>-0.214231</td>\n",
       "      <td>-0.037123</td>\n",
       "    </tr>\n",
       "    <tr>\n",
       "      <th>TotalTransaction</th>\n",
       "      <td>-0.033976</td>\n",
       "      <td>-0.025553</td>\n",
       "      <td>0.241036</td>\n",
       "      <td>0.857286</td>\n",
       "      <td>0.899490</td>\n",
       "      <td>-0.018381</td>\n",
       "      <td>0.005072</td>\n",
       "      <td>0.857286</td>\n",
       "      <td>0.422635</td>\n",
       "      <td>0.434252</td>\n",
       "      <td>1.000000</td>\n",
       "      <td>-0.167810</td>\n",
       "      <td>-0.170354</td>\n",
       "    </tr>\n",
       "    <tr>\n",
       "      <th>AverageBasket</th>\n",
       "      <td>0.033875</td>\n",
       "      <td>0.919880</td>\n",
       "      <td>-0.178763</td>\n",
       "      <td>0.318880</td>\n",
       "      <td>-0.207764</td>\n",
       "      <td>0.034931</td>\n",
       "      <td>0.007892</td>\n",
       "      <td>0.318880</td>\n",
       "      <td>-0.218105</td>\n",
       "      <td>-0.214231</td>\n",
       "      <td>-0.167810</td>\n",
       "      <td>1.000000</td>\n",
       "      <td>-0.027797</td>\n",
       "    </tr>\n",
       "    <tr>\n",
       "      <th>ChurnTarget</th>\n",
       "      <td>-0.006791</td>\n",
       "      <td>-0.055823</td>\n",
       "      <td>0.046991</td>\n",
       "      <td>-0.176483</td>\n",
       "      <td>-0.193219</td>\n",
       "      <td>-0.004459</td>\n",
       "      <td>-0.017708</td>\n",
       "      <td>-0.176483</td>\n",
       "      <td>-0.027378</td>\n",
       "      <td>-0.037123</td>\n",
       "      <td>-0.170354</td>\n",
       "      <td>-0.027797</td>\n",
       "      <td>1.000000</td>\n",
       "    </tr>\n",
       "  </tbody>\n",
       "</table>\n",
       "</div>"
      ],
      "text/plain": [
       "                            Age  AverageVisitPerMonth  AverageSpentEachMonth  \\\n",
       "Age                    1.000000              0.029815              -0.065233   \n",
       "AverageVisitPerMonth   0.029815              1.000000              -0.080057   \n",
       "AverageSpentEachMonth -0.065233             -0.080057               1.000000   \n",
       "TotalVisit            -0.011351              0.421250               0.139562   \n",
       "TotalMonth            -0.044525             -0.164951               0.275790   \n",
       "TotalChildren          0.489881              0.025583              -0.080200   \n",
       "NumberCarsOwned        0.192259              0.018282              -0.091301   \n",
       "TotalOrderNumber      -0.011351              0.421250               0.139562   \n",
       "TotalSpent            -0.052697             -0.150183               0.886095   \n",
       "TotalProfit           -0.049438             -0.143360               0.876599   \n",
       "TotalTransaction      -0.033976             -0.025553               0.241036   \n",
       "AverageBasket          0.033875              0.919880              -0.178763   \n",
       "ChurnTarget           -0.006791             -0.055823               0.046991   \n",
       "\n",
       "                       TotalVisit  TotalMonth  TotalChildren  NumberCarsOwned  \\\n",
       "Age                     -0.011351   -0.044525       0.489881         0.192259   \n",
       "AverageVisitPerMonth     0.421250   -0.164951       0.025583         0.018282   \n",
       "AverageSpentEachMonth    0.139562    0.275790      -0.080200        -0.091301   \n",
       "TotalVisit               1.000000    0.756636       0.003509         0.012725   \n",
       "TotalMonth               0.756636    1.000000      -0.027700        -0.004745   \n",
       "TotalChildren            0.003509   -0.027700       1.000000         0.261268   \n",
       "NumberCarsOwned          0.012725   -0.004745       0.261268         1.000000   \n",
       "TotalOrderNumber         1.000000    0.756636       0.003509         0.012725   \n",
       "TotalSpent               0.297394    0.539876      -0.065844        -0.051740   \n",
       "TotalProfit              0.311327    0.549830      -0.060455        -0.045827   \n",
       "TotalTransaction         0.857286    0.899490      -0.018381         0.005072   \n",
       "AverageBasket            0.318880   -0.207764       0.034931         0.007892   \n",
       "ChurnTarget             -0.176483   -0.193219      -0.004459        -0.017708   \n",
       "\n",
       "                       TotalOrderNumber  TotalSpent  TotalProfit  \\\n",
       "Age                           -0.011351   -0.052697    -0.049438   \n",
       "AverageVisitPerMonth           0.421250   -0.150183    -0.143360   \n",
       "AverageSpentEachMonth          0.139562    0.886095     0.876599   \n",
       "TotalVisit                     1.000000    0.297394     0.311327   \n",
       "TotalMonth                     0.756636    0.539876     0.549830   \n",
       "TotalChildren                  0.003509   -0.065844    -0.060455   \n",
       "NumberCarsOwned                0.012725   -0.051740    -0.045827   \n",
       "TotalOrderNumber               1.000000    0.297394     0.311327   \n",
       "TotalSpent                     0.297394    1.000000     0.997147   \n",
       "TotalProfit                    0.311327    0.997147     1.000000   \n",
       "TotalTransaction               0.857286    0.422635     0.434252   \n",
       "AverageBasket                  0.318880   -0.218105    -0.214231   \n",
       "ChurnTarget                   -0.176483   -0.027378    -0.037123   \n",
       "\n",
       "                       TotalTransaction  AverageBasket  ChurnTarget  \n",
       "Age                           -0.033976       0.033875    -0.006791  \n",
       "AverageVisitPerMonth          -0.025553       0.919880    -0.055823  \n",
       "AverageSpentEachMonth          0.241036      -0.178763     0.046991  \n",
       "TotalVisit                     0.857286       0.318880    -0.176483  \n",
       "TotalMonth                     0.899490      -0.207764    -0.193219  \n",
       "TotalChildren                 -0.018381       0.034931    -0.004459  \n",
       "NumberCarsOwned                0.005072       0.007892    -0.017708  \n",
       "TotalOrderNumber               0.857286       0.318880    -0.176483  \n",
       "TotalSpent                     0.422635      -0.218105    -0.027378  \n",
       "TotalProfit                    0.434252      -0.214231    -0.037123  \n",
       "TotalTransaction               1.000000      -0.167810    -0.170354  \n",
       "AverageBasket                 -0.167810       1.000000    -0.027797  \n",
       "ChurnTarget                   -0.170354      -0.027797     1.000000  "
      ]
     },
     "execution_count": 121,
     "metadata": {},
     "output_type": "execute_result"
    }
   ],
   "source": [
    "cor"
   ]
  },
  {
   "cell_type": "code",
   "execution_count": 122,
   "metadata": {},
   "outputs": [
    {
     "name": "stdout",
     "output_type": "stream",
     "text": [
      "13\n"
     ]
    }
   ],
   "source": [
    "# Now remove one of the two features if there correlation exceeds 0.8 value\n",
    "removing_features = ['AverageVisitPerMonth', 'TotalMonth', 'TotalTransaction','TotalSpent','TotalTransaction', 'TotalProfit']\n",
    "columns = np.full((cor.shape[0],), True, dtype=bool)\n",
    "for i in range(cor.shape[0]):\n",
    "    for j in range(i+1, cor.shape[0]):\n",
    "        if cor.iloc[i,j] >= 0.9:\n",
    "            if columns[j]:\n",
    "                columns[j] = False\n",
    "print(len(columns))\n"
   ]
  },
  {
   "cell_type": "code",
   "execution_count": 123,
   "metadata": {
    "scrolled": false
   },
   "outputs": [
    {
     "name": "stdout",
     "output_type": "stream",
     "text": [
      "TotalOrderNumber Feature is being removed\n",
      "TotalProfit Feature is being removed\n",
      "AverageBasket Feature is being removed\n"
     ]
    }
   ],
   "source": [
    "Selected_Numerical_Features = []\n",
    "for each, status in zip(Numerical_dataset+ ['ChurnTarget'], columns):\n",
    "    if status:\n",
    "        Selected_Numerical_Features.append(each)\n",
    "    else:\n",
    "        print(each + \" Feature is being removed\")"
   ]
  },
  {
   "cell_type": "code",
   "execution_count": 124,
   "metadata": {},
   "outputs": [
    {
     "data": {
      "text/plain": [
       "['Age',\n",
       " 'AverageVisitPerMonth',\n",
       " 'AverageSpentEachMonth',\n",
       " 'TotalVisit',\n",
       " 'TotalMonth',\n",
       " 'TotalChildren',\n",
       " 'NumberCarsOwned',\n",
       " 'TotalSpent',\n",
       " 'TotalTransaction',\n",
       " 'ChurnTarget']"
      ]
     },
     "execution_count": 124,
     "metadata": {},
     "output_type": "execute_result"
    }
   ],
   "source": [
    "Selected_Numerical_Features"
   ]
  },
  {
   "cell_type": "markdown",
   "metadata": {},
   "source": [
    "## Now we do Chi square testing for feature selection of Nominal and Ordinal dataset"
   ]
  },
  {
   "cell_type": "code",
   "execution_count": 125,
   "metadata": {},
   "outputs": [
    {
     "data": {
      "text/plain": [
       "['YearlyIncomeBand', 'CommuteDistance', 'EnglishEducation']"
      ]
     },
     "execution_count": 125,
     "metadata": {},
     "output_type": "execute_result"
    }
   ],
   "source": [
    "Ordinal_dataset"
   ]
  },
  {
   "cell_type": "code",
   "execution_count": 126,
   "metadata": {},
   "outputs": [
    {
     "data": {
      "text/plain": [
       "EnglishEducation\n",
       "Bachelors              3271\n",
       "Graduate Degree        1986\n",
       "High School            1977\n",
       "Partial College        3121\n",
       "Partial High School     993\n",
       "dtype: int64"
      ]
     },
     "execution_count": 126,
     "metadata": {},
     "output_type": "execute_result"
    }
   ],
   "source": [
    "training_df.groupby('EnglishEducation').size()"
   ]
  },
  {
   "cell_type": "code",
   "execution_count": 127,
   "metadata": {},
   "outputs": [
    {
     "name": "stdout",
     "output_type": "stream",
     "text": [
      "{'col': 'YearlyIncomeBand', 'mapping': {'Below 40k': 1, '40K TO 80K': 2, '80k to 120k': 3, 'Above 120k': 4}}\n",
      "{'col': 'CommuteDistance', 'mapping': {'0-1 Miles': 1, '1-2 Miles': 2, '2-5 Miles': 3, '5-10 Miles': 4, '10+ Miles': 5}}\n",
      "{'col': 'EnglishEducation', 'mapping': {'Partial High School': 1, 'High School': 2, 'Partial College': 3, 'Bachelors': 4, 'Graduate Degree': 5}}\n"
     ]
    }
   ],
   "source": [
    "# Encoding Nominal dataset\n",
    "\n",
    "mapper=[{'col': 'YearlyIncomeBand',\n",
    "          'mapping': {'Below 40k': 1, '40K TO 80K': 2,'80k to 120k': 3, 'Above 120k':4}\n",
    "        }, {'col': 'CommuteDistance',\n",
    "          'mapping': {'0-1 Miles': 1, '1-2 Miles': 2,'2-5 Miles': 3, '5-10 Miles':4, '10+ Miles':5}\n",
    "        },\n",
    "       {'col': 'EnglishEducation',\n",
    "          'mapping': {'Partial High School':1, 'High School': 2,'Partial College': 3, 'Bachelors':4,'Graduate Degree':5}\n",
    "        }]\n",
    "\n",
    "for each_map in mapper:\n",
    "    print(each_map)\n",
    "    # Let's create an object of the class OrdinalEncoder\n",
    "    ordEncoder = ce.OrdinalEncoder(cols=each_map['col'], mapping=[each_map])\n",
    "\n",
    "    training_df = ordEncoder.fit_transform(training_df)\n",
    "\n",
    "\n",
    "    result_non_churner_predict = ordEncoder.fit_transform(result_non_churner_predict)\n",
    "    "
   ]
  },
  {
   "cell_type": "code",
   "execution_count": 128,
   "metadata": {},
   "outputs": [
    {
     "name": "stdout",
     "output_type": "stream",
     "text": [
      "['Gender', 'HouseOwnerFlag', 'SalesTerritoryRegion', 'SalesTerritoryCountry', 'SalesTerritoryGroup', 'EnglishOccupation']\n"
     ]
    }
   ],
   "source": [
    "# Nominal data encoding\n",
    "print(nominal_dataset)\n",
    "for each_datatype in nominal_dataset:\n",
    "    # Instatniate LabelEncoder\n",
    "    le = LabelEncoder()# LabelEncode Book_Tablecolumn of df\n",
    "    training_df[each_datatype] = le.fit_transform(training_df[each_datatype])\n",
    "    result_non_churner_predict[each_datatype] = le.fit_transform(result_non_churner_predict[each_datatype])"
   ]
  },
  {
   "cell_type": "code",
   "execution_count": 129,
   "metadata": {},
   "outputs": [
    {
     "name": "stdout",
     "output_type": "stream",
     "text": [
      "      Gender  HouseOwnerFlag  SalesTerritoryRegion  SalesTerritoryCountry  \\\n",
      "1          1               1                     3                      2   \n",
      "4          0               1                     7                      5   \n",
      "5          1               1                     1                      1   \n",
      "9          1               1                     3                      2   \n",
      "13         0               1                     4                      3   \n",
      "...      ...             ...                   ...                    ...   \n",
      "8318       1               1                     6                      5   \n",
      "8320       1               1                     8                      5   \n",
      "8321       1               1                     0                      0   \n",
      "8322       0               0                     3                      2   \n",
      "8323       1               0                     0                      0   \n",
      "\n",
      "      SalesTerritoryGroup  EnglishOccupation  YearlyIncomeBand  \\\n",
      "1                       0                  1                 3   \n",
      "4                       1                  4                 2   \n",
      "5                       1                  4                 2   \n",
      "9                       0                  4                 1   \n",
      "13                      0                  2                 1   \n",
      "...                   ...                ...               ...   \n",
      "8318                    1                  1                 3   \n",
      "8320                    1                  1                 2   \n",
      "8321                    2                  3                 2   \n",
      "8322                    0                  2                 1   \n",
      "8323                    2                  0                 1   \n",
      "\n",
      "      CommuteDistance  EnglishEducation  \n",
      "1                   5                 4  \n",
      "4                   3                 5  \n",
      "5                   3                 4  \n",
      "9                   1                 4  \n",
      "13                  1                 1  \n",
      "...               ...               ...  \n",
      "8318                2                 4  \n",
      "8320                5                 4  \n",
      "8321                4                 4  \n",
      "8322                2                 2  \n",
      "8323                2                 3  \n",
      "\n",
      "[11348 rows x 9 columns]\n"
     ]
    }
   ],
   "source": [
    "X = training_df[nominal_dataset+ Ordinal_dataset]\n",
    "print(X)\n",
    "y = training_df['ChurnTarget']"
   ]
  },
  {
   "cell_type": "code",
   "execution_count": 130,
   "metadata": {},
   "outputs": [],
   "source": [
    "chi_scores = chi2(X,y)"
   ]
  },
  {
   "cell_type": "code",
   "execution_count": 131,
   "metadata": {},
   "outputs": [
    {
     "name": "stdout",
     "output_type": "stream",
     "text": [
      "We are removing Gender\n",
      "We are removing EnglishEducation\n",
      "We are removing CommuteDistance\n",
      "We are removing HouseOwnerFlag\n",
      "We are removing SalesTerritoryGroup\n"
     ]
    }
   ],
   "source": [
    "selected_categorical_values = []\n",
    "p_values = pd.Series(chi_scores[1],index = X.columns)\n",
    "p_values.sort_values(ascending = False , inplace = True)\n",
    "\n",
    "for i,p_value in p_values.items():\n",
    "    if p_value> 0.09:\n",
    "        print(\"We are removing\", i)\n",
    "    else:\n",
    "        selected_categorical_values.append(i)\n",
    "        \n"
   ]
  },
  {
   "cell_type": "code",
   "execution_count": 132,
   "metadata": {},
   "outputs": [
    {
     "data": {
      "text/plain": [
       "['YearlyIncomeBand',\n",
       " 'EnglishOccupation',\n",
       " 'SalesTerritoryCountry',\n",
       " 'SalesTerritoryRegion']"
      ]
     },
     "execution_count": 132,
     "metadata": {},
     "output_type": "execute_result"
    }
   ],
   "source": [
    "selected_categorical_values"
   ]
  },
  {
   "cell_type": "code",
   "execution_count": 133,
   "metadata": {},
   "outputs": [
    {
     "data": {
      "text/plain": [
       "<matplotlib.axes._subplots.AxesSubplot at 0x1ac02662198>"
      ]
     },
     "execution_count": 133,
     "metadata": {},
     "output_type": "execute_result"
    },
    {
     "data": {
      "image/png": "[encoded data removed]",
      "text/plain": [
       "<Figure size 432x288 with 1 Axes>"
      ]
     },
     "metadata": {
      "needs_background": "light"
     },
     "output_type": "display_data"
    }
   ],
   "source": [
    "p_values.plot.bar()\n"
   ]
  },
  {
   "cell_type": "code",
   "execution_count": 134,
   "metadata": {},
   "outputs": [
    {
     "data": {
      "image/png": "[encoded data removed]",
      "text/plain": [
       "<Figure size 432x288 with 1 Axes>"
      ]
     },
     "metadata": {
      "needs_background": "light"
     },
     "output_type": "display_data"
    }
   ],
   "source": [
    "plt.bar(p_values.index,p_values.values )\n",
    "plt.tick_params(labelsize=15)\n",
    "plt.tick_params(labelsize=30)\n",
    "plt.ylabel('P-value')\n",
    "plt.tick_params(labelsize=30)\n",
    "\n"
   ]
  },
  {
   "cell_type": "code",
   "execution_count": 135,
   "metadata": {},
   "outputs": [],
   "source": [
    "selected_features = Selected_Numerical_Features +  selected_categorical_values"
   ]
  },
  {
   "cell_type": "code",
   "execution_count": 136,
   "metadata": {},
   "outputs": [
    {
     "data": {
      "text/plain": [
       "['Age',\n",
       " 'AverageVisitPerMonth',\n",
       " 'AverageSpentEachMonth',\n",
       " 'TotalVisit',\n",
       " 'TotalMonth',\n",
       " 'TotalChildren',\n",
       " 'NumberCarsOwned',\n",
       " 'TotalSpent',\n",
       " 'TotalTransaction',\n",
       " 'ChurnTarget']"
      ]
     },
     "execution_count": 136,
     "metadata": {},
     "output_type": "execute_result"
    }
   ],
   "source": [
    "Selected_Numerical_Features"
   ]
  },
  {
   "cell_type": "code",
   "execution_count": 137,
   "metadata": {},
   "outputs": [
    {
     "data": {
      "text/plain": [
       "array([8.70865517e-01, 4.25867754e-01, 2.56849880e-01, 2.37011554e-01,\n",
       "       1.28308882e-01, 1.20018952e-02, 4.17763972e-03, 6.61915596e-16,\n",
       "       3.29234981e-17])"
      ]
     },
     "execution_count": 137,
     "metadata": {},
     "output_type": "execute_result"
    }
   ],
   "source": [
    "p_values.values"
   ]
  },
  {
   "cell_type": "code",
   "execution_count": 138,
   "metadata": {},
   "outputs": [
    {
     "data": {
      "text/plain": [
       "['YearlyIncomeBand',\n",
       " 'EnglishOccupation',\n",
       " 'SalesTerritoryCountry',\n",
       " 'SalesTerritoryRegion']"
      ]
     },
     "execution_count": 138,
     "metadata": {},
     "output_type": "execute_result"
    }
   ],
   "source": [
    "selected_categorical_values"
   ]
  },
  {
   "cell_type": "code",
   "execution_count": 139,
   "metadata": {},
   "outputs": [
    {
     "name": "stdout",
     "output_type": "stream",
     "text": [
      "Selected Features are: ['Age', 'AverageVisitPerMonth', 'AverageSpentEachMonth', 'TotalVisit', 'TotalMonth', 'TotalChildren', 'NumberCarsOwned', 'TotalSpent', 'TotalTransaction', 'ChurnTarget', 'YearlyIncomeBand', 'EnglishOccupation', 'SalesTerritoryCountry', 'SalesTerritoryRegion']\n"
     ]
    }
   ],
   "source": [
    "print(\"Selected Features are:\", selected_features)"
   ]
  },
  {
   "cell_type": "code",
   "execution_count": 140,
   "metadata": {},
   "outputs": [],
   "source": [
    "selected_features = [feature for feature in selected_features if feature != 'ChurnTarget']"
   ]
  },
  {
   "cell_type": "markdown",
   "metadata": {},
   "source": [
    "Since Gender snd Commute distance has higher the p-value, it says that this variables is independent of the churn target and can not be considered for model training"
   ]
  },
  {
   "cell_type": "code",
   "execution_count": 141,
   "metadata": {},
   "outputs": [
    {
     "data": {
      "image/png": "[encoded data removed]",
      "text/plain": [
       "<Figure size 1368x1368 with 9 Axes>"
      ]
     },
     "metadata": {
      "needs_background": "light"
     },
     "output_type": "display_data"
    }
   ],
   "source": [
    "#PLOT SCATTER MATRIX\n",
    "# using scatter matrix which shows how much one variable affects the other for nominal data only\n",
    "Nominal_feature_selected = [x for x in nominal_dataset if x in selected_features]\n",
    "from pandas.plotting import scatter_matrix\n",
    "def plot_scatter_matrix(data,cols):\n",
    "    scatter_matrix(data[cols],figsize=(19,19), alpha=0.2)\n",
    "    plt.show()\n",
    "columns_for_scatter_matrix= Nominal_feature_selected\n",
    "plot_scatter_matrix(training_df,columns_for_scatter_matrix)"
   ]
  },
  {
   "cell_type": "code",
   "execution_count": 142,
   "metadata": {},
   "outputs": [
    {
     "data": {
      "image/png": "[encoded data removed]",
      "text/plain": [
       "<Figure size 1368x1368 with 9 Axes>"
      ]
     },
     "metadata": {
      "needs_background": "light"
     },
     "output_type": "display_data"
    }
   ],
   "source": [
    "#PLOT SCATTER MATRIX\n",
    "# using scatter matrix which shows how much one variable affects the other for Ordinal only\n",
    "Nominal_feature_selected = [x for x in nominal_dataset if x in selected_features]\n",
    "from pandas.plotting import scatter_matrix\n",
    "def plot_scatter_matrix(data,cols):\n",
    "    scatter_matrix(data[cols],figsize=(19,19), alpha=0.2)\n",
    "    plt.show()\n",
    "columns_for_scatter_matrix= Nominal_feature_selected\n",
    "plot_scatter_matrix(training_df,columns_for_scatter_matrix)"
   ]
  },
  {
   "cell_type": "code",
   "execution_count": 143,
   "metadata": {},
   "outputs": [],
   "source": [
    "training_df = training_df.drop('DateFirstPurchase', axis=1)\n",
    "result_non_churner_predict = result_non_churner_predict.drop('DateFirstPurchase', axis=1)"
   ]
  },
  {
   "cell_type": "code",
   "execution_count": 144,
   "metadata": {},
   "outputs": [],
   "source": [
    "predict_churner_data = result_non_churner_predict[selected_features]"
   ]
  },
  {
   "cell_type": "code",
   "execution_count": 145,
   "metadata": {},
   "outputs": [
    {
     "name": "stdout",
     "output_type": "stream",
     "text": [
      "Index(['Age', 'AverageVisitPerMonth', 'AverageSpentEachMonth', 'TotalVisit',\n",
      "       'TotalMonth', 'TotalChildren', 'NumberCarsOwned', 'TotalSpent',\n",
      "       'TotalTransaction', 'YearlyIncomeBand', 'EnglishOccupation',\n",
      "       'SalesTerritoryCountry', 'SalesTerritoryRegion'],\n",
      "      dtype='object')\n"
     ]
    }
   ],
   "source": [
    "training_df= training_df[selected_features + ['ChurnTarget']].drop_duplicates(subset=None, keep='first', inplace=False)\n",
    "s_df = training_df[selected_features]\n",
    "print(s_df.columns)\n",
    "result_non_churner_predict= result_non_churner_predict[selected_features + ['ChurnTarget']].drop_duplicates(subset=None, keep='first', inplace=False)\n",
    "s_df_test = result_non_churner_predict[selected_features]"
   ]
  },
  {
   "cell_type": "code",
   "execution_count": 146,
   "metadata": {},
   "outputs": [
    {
     "data": {
      "text/html": [
       "<div>\n",
       "<style scoped>\n",
       "    .dataframe tbody tr th:only-of-type {\n",
       "        vertical-align: middle;\n",
       "    }\n",
       "\n",
       "    .dataframe tbody tr th {\n",
       "        vertical-align: top;\n",
       "    }\n",
       "\n",
       "    .dataframe thead th {\n",
       "        text-align: right;\n",
       "    }\n",
       "</style>\n",
       "<table border=\"1\" class=\"dataframe\">\n",
       "  <thead>\n",
       "    <tr style=\"text-align: right;\">\n",
       "      <th></th>\n",
       "      <th>Age</th>\n",
       "      <th>AverageVisitPerMonth</th>\n",
       "      <th>AverageSpentEachMonth</th>\n",
       "      <th>TotalVisit</th>\n",
       "      <th>TotalMonth</th>\n",
       "      <th>TotalChildren</th>\n",
       "      <th>NumberCarsOwned</th>\n",
       "      <th>TotalSpent</th>\n",
       "      <th>TotalTransaction</th>\n",
       "      <th>YearlyIncomeBand</th>\n",
       "      <th>EnglishOccupation</th>\n",
       "      <th>SalesTerritoryCountry</th>\n",
       "      <th>SalesTerritoryRegion</th>\n",
       "      <th>ChurnTarget</th>\n",
       "    </tr>\n",
       "  </thead>\n",
       "  <tbody>\n",
       "    <tr>\n",
       "      <th>8324</th>\n",
       "      <td>37</td>\n",
       "      <td>3</td>\n",
       "      <td>2351.960</td>\n",
       "      <td>3</td>\n",
       "      <td>1</td>\n",
       "      <td>2</td>\n",
       "      <td>0</td>\n",
       "      <td>2351.96</td>\n",
       "      <td>1</td>\n",
       "      <td>2</td>\n",
       "      <td>3</td>\n",
       "      <td>5</td>\n",
       "      <td>8</td>\n",
       "      <td>0</td>\n",
       "    </tr>\n",
       "    <tr>\n",
       "      <th>8325</th>\n",
       "      <td>46</td>\n",
       "      <td>2</td>\n",
       "      <td>1750.980</td>\n",
       "      <td>2</td>\n",
       "      <td>1</td>\n",
       "      <td>1</td>\n",
       "      <td>0</td>\n",
       "      <td>1750.98</td>\n",
       "      <td>1</td>\n",
       "      <td>1</td>\n",
       "      <td>2</td>\n",
       "      <td>4</td>\n",
       "      <td>9</td>\n",
       "      <td>0</td>\n",
       "    </tr>\n",
       "    <tr>\n",
       "      <th>8326</th>\n",
       "      <td>43</td>\n",
       "      <td>1</td>\n",
       "      <td>2460.845</td>\n",
       "      <td>3</td>\n",
       "      <td>2</td>\n",
       "      <td>1</td>\n",
       "      <td>0</td>\n",
       "      <td>4921.69</td>\n",
       "      <td>2</td>\n",
       "      <td>1</td>\n",
       "      <td>2</td>\n",
       "      <td>2</td>\n",
       "      <td>3</td>\n",
       "      <td>0</td>\n",
       "    </tr>\n",
       "    <tr>\n",
       "      <th>8327</th>\n",
       "      <td>51</td>\n",
       "      <td>1</td>\n",
       "      <td>39.485</td>\n",
       "      <td>3</td>\n",
       "      <td>2</td>\n",
       "      <td>3</td>\n",
       "      <td>2</td>\n",
       "      <td>78.97</td>\n",
       "      <td>2</td>\n",
       "      <td>2</td>\n",
       "      <td>3</td>\n",
       "      <td>0</td>\n",
       "      <td>0</td>\n",
       "      <td>0</td>\n",
       "    </tr>\n",
       "    <tr>\n",
       "      <th>8329</th>\n",
       "      <td>39</td>\n",
       "      <td>1</td>\n",
       "      <td>28.990</td>\n",
       "      <td>1</td>\n",
       "      <td>1</td>\n",
       "      <td>0</td>\n",
       "      <td>1</td>\n",
       "      <td>28.99</td>\n",
       "      <td>1</td>\n",
       "      <td>1</td>\n",
       "      <td>0</td>\n",
       "      <td>3</td>\n",
       "      <td>4</td>\n",
       "      <td>0</td>\n",
       "    </tr>\n",
       "    <tr>\n",
       "      <th>...</th>\n",
       "      <td>...</td>\n",
       "      <td>...</td>\n",
       "      <td>...</td>\n",
       "      <td>...</td>\n",
       "      <td>...</td>\n",
       "      <td>...</td>\n",
       "      <td>...</td>\n",
       "      <td>...</td>\n",
       "      <td>...</td>\n",
       "      <td>...</td>\n",
       "      <td>...</td>\n",
       "      <td>...</td>\n",
       "      <td>...</td>\n",
       "      <td>...</td>\n",
       "    </tr>\n",
       "    <tr>\n",
       "      <th>18478</th>\n",
       "      <td>57</td>\n",
       "      <td>2</td>\n",
       "      <td>50.050</td>\n",
       "      <td>11</td>\n",
       "      <td>4</td>\n",
       "      <td>1</td>\n",
       "      <td>1</td>\n",
       "      <td>200.20</td>\n",
       "      <td>4</td>\n",
       "      <td>2</td>\n",
       "      <td>3</td>\n",
       "      <td>1</td>\n",
       "      <td>1</td>\n",
       "      <td>0</td>\n",
       "    </tr>\n",
       "    <tr>\n",
       "      <th>18479</th>\n",
       "      <td>49</td>\n",
       "      <td>2</td>\n",
       "      <td>2235.870</td>\n",
       "      <td>4</td>\n",
       "      <td>2</td>\n",
       "      <td>0</td>\n",
       "      <td>2</td>\n",
       "      <td>4471.74</td>\n",
       "      <td>2</td>\n",
       "      <td>3</td>\n",
       "      <td>1</td>\n",
       "      <td>0</td>\n",
       "      <td>0</td>\n",
       "      <td>0</td>\n",
       "    </tr>\n",
       "    <tr>\n",
       "      <th>18481</th>\n",
       "      <td>44</td>\n",
       "      <td>2</td>\n",
       "      <td>45.375</td>\n",
       "      <td>5</td>\n",
       "      <td>2</td>\n",
       "      <td>0</td>\n",
       "      <td>4</td>\n",
       "      <td>90.75</td>\n",
       "      <td>2</td>\n",
       "      <td>3</td>\n",
       "      <td>3</td>\n",
       "      <td>0</td>\n",
       "      <td>0</td>\n",
       "      <td>0</td>\n",
       "    </tr>\n",
       "    <tr>\n",
       "      <th>18482</th>\n",
       "      <td>51</td>\n",
       "      <td>4</td>\n",
       "      <td>123.960</td>\n",
       "      <td>4</td>\n",
       "      <td>1</td>\n",
       "      <td>5</td>\n",
       "      <td>3</td>\n",
       "      <td>123.96</td>\n",
       "      <td>1</td>\n",
       "      <td>2</td>\n",
       "      <td>4</td>\n",
       "      <td>5</td>\n",
       "      <td>8</td>\n",
       "      <td>0</td>\n",
       "    </tr>\n",
       "    <tr>\n",
       "      <th>18483</th>\n",
       "      <td>50</td>\n",
       "      <td>1</td>\n",
       "      <td>24.990</td>\n",
       "      <td>1</td>\n",
       "      <td>1</td>\n",
       "      <td>4</td>\n",
       "      <td>3</td>\n",
       "      <td>24.99</td>\n",
       "      <td>1</td>\n",
       "      <td>2</td>\n",
       "      <td>4</td>\n",
       "      <td>5</td>\n",
       "      <td>6</td>\n",
       "      <td>0</td>\n",
       "    </tr>\n",
       "  </tbody>\n",
       "</table>\n",
       "<p>7058 rows × 14 columns</p>\n",
       "</div>"
      ],
      "text/plain": [
       "       Age  AverageVisitPerMonth  AverageSpentEachMonth  TotalVisit  \\\n",
       "8324    37                     3               2351.960           3   \n",
       "8325    46                     2               1750.980           2   \n",
       "8326    43                     1               2460.845           3   \n",
       "8327    51                     1                 39.485           3   \n",
       "8329    39                     1                 28.990           1   \n",
       "...    ...                   ...                    ...         ...   \n",
       "18478   57                     2                 50.050          11   \n",
       "18479   49                     2               2235.870           4   \n",
       "18481   44                     2                 45.375           5   \n",
       "18482   51                     4                123.960           4   \n",
       "18483   50                     1                 24.990           1   \n",
       "\n",
       "       TotalMonth  TotalChildren  NumberCarsOwned  TotalSpent  \\\n",
       "8324            1              2                0     2351.96   \n",
       "8325            1              1                0     1750.98   \n",
       "8326            2              1                0     4921.69   \n",
       "8327            2              3                2       78.97   \n",
       "8329            1              0                1       28.99   \n",
       "...           ...            ...              ...         ...   \n",
       "18478           4              1                1      200.20   \n",
       "18479           2              0                2     4471.74   \n",
       "18481           2              0                4       90.75   \n",
       "18482           1              5                3      123.96   \n",
       "18483           1              4                3       24.99   \n",
       "\n",
       "       TotalTransaction  YearlyIncomeBand  EnglishOccupation  \\\n",
       "8324                  1                 2                  3   \n",
       "8325                  1                 1                  2   \n",
       "8326                  2                 1                  2   \n",
       "8327                  2                 2                  3   \n",
       "8329                  1                 1                  0   \n",
       "...                 ...               ...                ...   \n",
       "18478                 4                 2                  3   \n",
       "18479                 2                 3                  1   \n",
       "18481                 2                 3                  3   \n",
       "18482                 1                 2                  4   \n",
       "18483                 1                 2                  4   \n",
       "\n",
       "       SalesTerritoryCountry  SalesTerritoryRegion  ChurnTarget  \n",
       "8324                       5                     8            0  \n",
       "8325                       4                     9            0  \n",
       "8326                       2                     3            0  \n",
       "8327                       0                     0            0  \n",
       "8329                       3                     4            0  \n",
       "...                      ...                   ...          ...  \n",
       "18478                      1                     1            0  \n",
       "18479                      0                     0            0  \n",
       "18481                      0                     0            0  \n",
       "18482                      5                     8            0  \n",
       "18483                      5                     6            0  \n",
       "\n",
       "[7058 rows x 14 columns]"
      ]
     },
     "execution_count": 146,
     "metadata": {},
     "output_type": "execute_result"
    }
   ],
   "source": [
    "result_non_churner_predict"
   ]
  },
  {
   "cell_type": "code",
   "execution_count": 147,
   "metadata": {},
   "outputs": [
    {
     "data": {
      "text/html": [
       "<div>\n",
       "<style scoped>\n",
       "    .dataframe tbody tr th:only-of-type {\n",
       "        vertical-align: middle;\n",
       "    }\n",
       "\n",
       "    .dataframe tbody tr th {\n",
       "        vertical-align: top;\n",
       "    }\n",
       "\n",
       "    .dataframe thead th {\n",
       "        text-align: right;\n",
       "    }\n",
       "</style>\n",
       "<table border=\"1\" class=\"dataframe\">\n",
       "  <thead>\n",
       "    <tr style=\"text-align: right;\">\n",
       "      <th></th>\n",
       "      <th>Age</th>\n",
       "      <th>AverageVisitPerMonth</th>\n",
       "      <th>AverageSpentEachMonth</th>\n",
       "      <th>TotalVisit</th>\n",
       "      <th>TotalMonth</th>\n",
       "      <th>TotalChildren</th>\n",
       "      <th>NumberCarsOwned</th>\n",
       "      <th>TotalSpent</th>\n",
       "      <th>TotalTransaction</th>\n",
       "      <th>YearlyIncomeBand</th>\n",
       "      <th>EnglishOccupation</th>\n",
       "      <th>SalesTerritoryCountry</th>\n",
       "      <th>SalesTerritoryRegion</th>\n",
       "    </tr>\n",
       "  </thead>\n",
       "  <tbody>\n",
       "    <tr>\n",
       "      <th>8324</th>\n",
       "      <td>37</td>\n",
       "      <td>3</td>\n",
       "      <td>2351.960</td>\n",
       "      <td>3</td>\n",
       "      <td>1</td>\n",
       "      <td>2</td>\n",
       "      <td>0</td>\n",
       "      <td>2351.96</td>\n",
       "      <td>1</td>\n",
       "      <td>2</td>\n",
       "      <td>3</td>\n",
       "      <td>5</td>\n",
       "      <td>8</td>\n",
       "    </tr>\n",
       "    <tr>\n",
       "      <th>8325</th>\n",
       "      <td>46</td>\n",
       "      <td>2</td>\n",
       "      <td>1750.980</td>\n",
       "      <td>2</td>\n",
       "      <td>1</td>\n",
       "      <td>1</td>\n",
       "      <td>0</td>\n",
       "      <td>1750.98</td>\n",
       "      <td>1</td>\n",
       "      <td>1</td>\n",
       "      <td>2</td>\n",
       "      <td>4</td>\n",
       "      <td>9</td>\n",
       "    </tr>\n",
       "    <tr>\n",
       "      <th>8326</th>\n",
       "      <td>43</td>\n",
       "      <td>1</td>\n",
       "      <td>2460.845</td>\n",
       "      <td>3</td>\n",
       "      <td>2</td>\n",
       "      <td>1</td>\n",
       "      <td>0</td>\n",
       "      <td>4921.69</td>\n",
       "      <td>2</td>\n",
       "      <td>1</td>\n",
       "      <td>2</td>\n",
       "      <td>2</td>\n",
       "      <td>3</td>\n",
       "    </tr>\n",
       "    <tr>\n",
       "      <th>8327</th>\n",
       "      <td>51</td>\n",
       "      <td>1</td>\n",
       "      <td>39.485</td>\n",
       "      <td>3</td>\n",
       "      <td>2</td>\n",
       "      <td>3</td>\n",
       "      <td>2</td>\n",
       "      <td>78.97</td>\n",
       "      <td>2</td>\n",
       "      <td>2</td>\n",
       "      <td>3</td>\n",
       "      <td>0</td>\n",
       "      <td>0</td>\n",
       "    </tr>\n",
       "    <tr>\n",
       "      <th>8329</th>\n",
       "      <td>39</td>\n",
       "      <td>1</td>\n",
       "      <td>28.990</td>\n",
       "      <td>1</td>\n",
       "      <td>1</td>\n",
       "      <td>0</td>\n",
       "      <td>1</td>\n",
       "      <td>28.99</td>\n",
       "      <td>1</td>\n",
       "      <td>1</td>\n",
       "      <td>0</td>\n",
       "      <td>3</td>\n",
       "      <td>4</td>\n",
       "    </tr>\n",
       "    <tr>\n",
       "      <th>...</th>\n",
       "      <td>...</td>\n",
       "      <td>...</td>\n",
       "      <td>...</td>\n",
       "      <td>...</td>\n",
       "      <td>...</td>\n",
       "      <td>...</td>\n",
       "      <td>...</td>\n",
       "      <td>...</td>\n",
       "      <td>...</td>\n",
       "      <td>...</td>\n",
       "      <td>...</td>\n",
       "      <td>...</td>\n",
       "      <td>...</td>\n",
       "    </tr>\n",
       "    <tr>\n",
       "      <th>18478</th>\n",
       "      <td>57</td>\n",
       "      <td>2</td>\n",
       "      <td>50.050</td>\n",
       "      <td>11</td>\n",
       "      <td>4</td>\n",
       "      <td>1</td>\n",
       "      <td>1</td>\n",
       "      <td>200.20</td>\n",
       "      <td>4</td>\n",
       "      <td>2</td>\n",
       "      <td>3</td>\n",
       "      <td>1</td>\n",
       "      <td>1</td>\n",
       "    </tr>\n",
       "    <tr>\n",
       "      <th>18479</th>\n",
       "      <td>49</td>\n",
       "      <td>2</td>\n",
       "      <td>2235.870</td>\n",
       "      <td>4</td>\n",
       "      <td>2</td>\n",
       "      <td>0</td>\n",
       "      <td>2</td>\n",
       "      <td>4471.74</td>\n",
       "      <td>2</td>\n",
       "      <td>3</td>\n",
       "      <td>1</td>\n",
       "      <td>0</td>\n",
       "      <td>0</td>\n",
       "    </tr>\n",
       "    <tr>\n",
       "      <th>18481</th>\n",
       "      <td>44</td>\n",
       "      <td>2</td>\n",
       "      <td>45.375</td>\n",
       "      <td>5</td>\n",
       "      <td>2</td>\n",
       "      <td>0</td>\n",
       "      <td>4</td>\n",
       "      <td>90.75</td>\n",
       "      <td>2</td>\n",
       "      <td>3</td>\n",
       "      <td>3</td>\n",
       "      <td>0</td>\n",
       "      <td>0</td>\n",
       "    </tr>\n",
       "    <tr>\n",
       "      <th>18482</th>\n",
       "      <td>51</td>\n",
       "      <td>4</td>\n",
       "      <td>123.960</td>\n",
       "      <td>4</td>\n",
       "      <td>1</td>\n",
       "      <td>5</td>\n",
       "      <td>3</td>\n",
       "      <td>123.96</td>\n",
       "      <td>1</td>\n",
       "      <td>2</td>\n",
       "      <td>4</td>\n",
       "      <td>5</td>\n",
       "      <td>8</td>\n",
       "    </tr>\n",
       "    <tr>\n",
       "      <th>18483</th>\n",
       "      <td>50</td>\n",
       "      <td>1</td>\n",
       "      <td>24.990</td>\n",
       "      <td>1</td>\n",
       "      <td>1</td>\n",
       "      <td>4</td>\n",
       "      <td>3</td>\n",
       "      <td>24.99</td>\n",
       "      <td>1</td>\n",
       "      <td>2</td>\n",
       "      <td>4</td>\n",
       "      <td>5</td>\n",
       "      <td>6</td>\n",
       "    </tr>\n",
       "  </tbody>\n",
       "</table>\n",
       "<p>7058 rows × 13 columns</p>\n",
       "</div>"
      ],
      "text/plain": [
       "       Age  AverageVisitPerMonth  AverageSpentEachMonth  TotalVisit  \\\n",
       "8324    37                     3               2351.960           3   \n",
       "8325    46                     2               1750.980           2   \n",
       "8326    43                     1               2460.845           3   \n",
       "8327    51                     1                 39.485           3   \n",
       "8329    39                     1                 28.990           1   \n",
       "...    ...                   ...                    ...         ...   \n",
       "18478   57                     2                 50.050          11   \n",
       "18479   49                     2               2235.870           4   \n",
       "18481   44                     2                 45.375           5   \n",
       "18482   51                     4                123.960           4   \n",
       "18483   50                     1                 24.990           1   \n",
       "\n",
       "       TotalMonth  TotalChildren  NumberCarsOwned  TotalSpent  \\\n",
       "8324            1              2                0     2351.96   \n",
       "8325            1              1                0     1750.98   \n",
       "8326            2              1                0     4921.69   \n",
       "8327            2              3                2       78.97   \n",
       "8329            1              0                1       28.99   \n",
       "...           ...            ...              ...         ...   \n",
       "18478           4              1                1      200.20   \n",
       "18479           2              0                2     4471.74   \n",
       "18481           2              0                4       90.75   \n",
       "18482           1              5                3      123.96   \n",
       "18483           1              4                3       24.99   \n",
       "\n",
       "       TotalTransaction  YearlyIncomeBand  EnglishOccupation  \\\n",
       "8324                  1                 2                  3   \n",
       "8325                  1                 1                  2   \n",
       "8326                  2                 1                  2   \n",
       "8327                  2                 2                  3   \n",
       "8329                  1                 1                  0   \n",
       "...                 ...               ...                ...   \n",
       "18478                 4                 2                  3   \n",
       "18479                 2                 3                  1   \n",
       "18481                 2                 3                  3   \n",
       "18482                 1                 2                  4   \n",
       "18483                 1                 2                  4   \n",
       "\n",
       "       SalesTerritoryCountry  SalesTerritoryRegion  \n",
       "8324                       5                     8  \n",
       "8325                       4                     9  \n",
       "8326                       2                     3  \n",
       "8327                       0                     0  \n",
       "8329                       3                     4  \n",
       "...                      ...                   ...  \n",
       "18478                      1                     1  \n",
       "18479                      0                     0  \n",
       "18481                      0                     0  \n",
       "18482                      5                     8  \n",
       "18483                      5                     6  \n",
       "\n",
       "[7058 rows x 13 columns]"
      ]
     },
     "execution_count": 147,
     "metadata": {},
     "output_type": "execute_result"
    }
   ],
   "source": [
    "s_df_test"
   ]
  },
  {
   "cell_type": "code",
   "execution_count": 148,
   "metadata": {},
   "outputs": [],
   "source": [
    "X_train = training_df[selected_features]\n",
    "y_train = training_df['ChurnTarget']\n",
    "X_test = result_non_churner_predict[selected_features]\n",
    "y_test=  result_non_churner_predict['ChurnTarget']\n"
   ]
  },
  {
   "cell_type": "markdown",
   "metadata": {},
   "source": [
    "## Model training "
   ]
  },
  {
   "cell_type": "code",
   "execution_count": 149,
   "metadata": {},
   "outputs": [],
   "source": [
    "#scale data\n",
    "from sklearn.preprocessing import StandardScaler\n",
    "scaler = StandardScaler()\n",
    "scaler.fit(X_train)\n",
    "X_train_scaled = scaler.transform(X_train)\n",
    "X_test_scaled = scaler.transform(X_test)\n",
    "predict_churner_data_scaled = scaler.transform(predict_churner_data)\n",
    "\n",
    "\n"
   ]
  },
  {
   "cell_type": "code",
   "execution_count": 150,
   "metadata": {},
   "outputs": [
    {
     "data": {
      "image/png": "[encoded data removed]",
      "text/plain": [
       "<Figure size 720x720 with 1 Axes>"
      ]
     },
     "metadata": {
      "needs_background": "light"
     },
     "output_type": "display_data"
    }
   ],
   "source": [
    "from sklearn.neighbors import KNeighborsClassifier\n",
    "from sklearn.metrics import accuracy_score\n",
    "\n",
    "training_accuracy = []\n",
    "test_accuracy = []\n",
    "# try n_neighbors from 1 to 10\n",
    "neighbors_settings = range(1, 11)\n",
    "\n",
    "# run the model with different hyperparameter settings\n",
    "for n_neighbors in neighbors_settings:\n",
    "    # build the model\n",
    "    knn = KNeighborsClassifier(n_neighbors=n_neighbors)\n",
    "    knn.fit(X_train, y_train)\n",
    "    \n",
    "    # if accuracy of prediction on training set is high but it is low on test set: So overfitting\n",
    "    # if accuracy of prediction on training set is low and it is also low on test set: So underfitting\n",
    "    # predict train set\n",
    "    train_pred=knn.predict(X_train)\n",
    "    # predict test set\n",
    "    test_pred=knn.predict(X_test)\n",
    "    \n",
    "    # record training set accuracy\n",
    "    training_accuracy.append(accuracy_score(y_train, train_pred))\n",
    "    # record test set accuracy\n",
    "    test_accuracy.append(accuracy_score(y_test, test_pred))\n",
    "    \n",
    "    #training_accuracy.append(knn.score(X_train, y_train))\n",
    "    #test_accuracy.append(knn.score(X_test, y_test))\n",
    "\n",
    "plt.figure(figsize=(10,10))\n",
    "plt.plot(neighbors_settings, training_accuracy, label=\"training accuracy\")\n",
    "plt.plot(neighbors_settings, test_accuracy, label=\"test accuracy\")\n",
    "plt.ylabel(\"Accuracy\")\n",
    "plt.xlabel(\"n_neighbors\")\n",
    "plt.legend()\n",
    "plt.savefig('knn_compare_model')"
   ]
  },
  {
   "cell_type": "markdown",
   "metadata": {},
   "source": [
    "The plot shows the training and test set accuracy on the y-axis against the setting of n_neighbors on the x-axis. Considering if we choose one single nearest neighbor, the prediction on the training set is perfect. But when more neighbors are considered, the training accuracy drops, indicating that using the single nearest neighbor leads to a model that is too complex. The best performance is somewhere around 2 neighbors.\n",
    "\n",
    "The above plot suggests that we should choose n_neighbors=2. Here we are:\n"
   ]
  },
  {
   "cell_type": "code",
   "execution_count": 151,
   "metadata": {},
   "outputs": [
    {
     "name": "stdout",
     "output_type": "stream",
     "text": [
      "F-beta of K-NN classifier on training set: 0.80\n",
      "F-beta  of K-NN classifier on test set: 0.81\n"
     ]
    }
   ],
   "source": [
    "knn = KNeighborsClassifier(n_neighbors=2)\n",
    "knn.fit(X_train, y_train)\n",
    "train_pred=knn.predict(X_train)\n",
    "test_pred=knn.predict(X_test)\n",
    "print('F-beta of K-NN classifier on training set: {:.2f}'.format(accuracy_score(y_train, train_pred)))\n",
    "print('F-beta  of K-NN classifier on test set: {:.2f}'.format(accuracy_score(y_test, test_pred)))"
   ]
  },
  {
   "cell_type": "code",
   "execution_count": 152,
   "metadata": {},
   "outputs": [
    {
     "name": "stdout",
     "output_type": "stream",
     "text": [
      "Training set accuracy: 0.582\n",
      "Test set accuracy: 0.515\n"
     ]
    },
    {
     "name": "stderr",
     "output_type": "stream",
     "text": [
      "C:\\Users\\Dilar\\Anaconda3\\lib\\site-packages\\sklearn\\linear_model\\logistic.py:432: FutureWarning: Default solver will be changed to 'lbfgs' in 0.22. Specify a solver to silence this warning.\n",
      "  FutureWarning)\n"
     ]
    }
   ],
   "source": [
    "from sklearn.linear_model import LogisticRegression\n",
    "\n",
    "# Learn from training set\n",
    "logreg = LogisticRegression(C=1).fit(X_train_scaled, y_train) # see https://www.quora.com/What-is-the-C-parameter-in-logistic-regression\n",
    "\n",
    "# predict train set\n",
    "train_pred=logreg.predict(X_train_scaled)\n",
    "# predict test set\n",
    "test_pred=logreg.predict(X_test_scaled)\n",
    "\n",
    "print(\"Training set accuracy: {:.3f}\".format(accuracy_score(y_train, train_pred)))\n",
    "print(\"Test set accuracy: {:.3f}\".format(accuracy_score(y_test, test_pred)))"
   ]
  },
  {
   "cell_type": "code",
   "execution_count": 153,
   "metadata": {},
   "outputs": [
    {
     "name": "stdout",
     "output_type": "stream",
     "text": [
      "Training set accuracy: 0.574\n",
      "Test set accuracy: 0.536\n"
     ]
    },
    {
     "name": "stderr",
     "output_type": "stream",
     "text": [
      "C:\\Users\\Dilar\\Anaconda3\\lib\\site-packages\\sklearn\\linear_model\\logistic.py:432: FutureWarning: Default solver will be changed to 'lbfgs' in 0.22. Specify a solver to silence this warning.\n",
      "  FutureWarning)\n"
     ]
    }
   ],
   "source": [
    "logreg001 = LogisticRegression(C=0.01).fit(X_train_scaled, y_train) # C is a penalty term, meant to disincentivize and regulate against Overfitting.\n",
    "\n",
    "# predict train set\n",
    "train_pred=logreg001.predict(X_train_scaled)\n",
    "# predict test set\n",
    "test_pred=logreg001.predict(X_test_scaled)\n",
    "\n",
    "print(\"Training set accuracy: {:.3f}\".format(accuracy_score(y_train, train_pred)))\n",
    "print(\"Test set accuracy: {:.3f}\".format(accuracy_score(y_test, test_pred)))"
   ]
  },
  {
   "cell_type": "code",
   "execution_count": 154,
   "metadata": {},
   "outputs": [
    {
     "name": "stdout",
     "output_type": "stream",
     "text": [
      "Training set accuracy: 0.582\n",
      "Test set accuracy: 0.514\n"
     ]
    },
    {
     "name": "stderr",
     "output_type": "stream",
     "text": [
      "C:\\Users\\Dilar\\Anaconda3\\lib\\site-packages\\sklearn\\linear_model\\logistic.py:432: FutureWarning: Default solver will be changed to 'lbfgs' in 0.22. Specify a solver to silence this warning.\n",
      "  FutureWarning)\n"
     ]
    }
   ],
   "source": [
    "logreg100 = LogisticRegression(C=100).fit(X_train_scaled, y_train)\n",
    "\n",
    "# predict train set\n",
    "train_pred=logreg100.predict(X_train_scaled)\n",
    "# predict test set\n",
    "test_pred=logreg100.predict(X_test_scaled)\n",
    "\n",
    "print(\"Training set accuracy: {:.3f}\".format(accuracy_score(y_train, train_pred)))\n",
    "print(\"Test set accuracy: {:.3f}\".format(accuracy_score(y_test, test_pred)))"
   ]
  },
  {
   "cell_type": "code",
   "execution_count": 155,
   "metadata": {
    "scrolled": true
   },
   "outputs": [
    {
     "name": "stdout",
     "output_type": "stream",
     "text": [
      "0.6534429016718617\n",
      "Training set accuracy: 0.990\n",
      "Test set accuracy: 0.653\n"
     ]
    }
   ],
   "source": [
    "from sklearn.tree import DecisionTreeClassifier\n",
    "from sklearn.metrics import fbeta_score\n",
    "\n",
    "tree = DecisionTreeClassifier(random_state=3)\n",
    "tree.fit(X_train_scaled, y_train)\n",
    "# predict train set\n",
    "train_pred=tree.predict(X_train_scaled)\n",
    "# predict test set\n",
    "test_pred=tree.predict(X_test_scaled)\n",
    "count = 0\n",
    "for each in test_pred:\n",
    "    if each == 0:\n",
    "        count += 1\n",
    "print(count/len(test_pred))\n",
    "print(\"Training set accuracy: {:.3f}\".format(accuracy_score(y_train, train_pred)))\n",
    "print(\"Test set accuracy: {:.3f}\".format(accuracy_score(y_test, test_pred)))"
   ]
  },
  {
   "cell_type": "code",
   "execution_count": 156,
   "metadata": {},
   "outputs": [
    {
     "data": {
      "text/plain": [
       "array([0.21942922, 0.02573501, 0.16645885, 0.03418595, 0.00253014,\n",
       "       0.06140117, 0.05740496, 0.18989793, 0.04850666, 0.04640079,\n",
       "       0.0533793 , 0.03555948, 0.05911053])"
      ]
     },
     "execution_count": 156,
     "metadata": {},
     "output_type": "execute_result"
    }
   ],
   "source": [
    "tree.feature_importances_"
   ]
  },
  {
   "cell_type": "code",
   "execution_count": 157,
   "metadata": {},
   "outputs": [
    {
     "data": {
      "image/png": "[encoded data removed]",
      "text/plain": [
       "<Figure size 936x1440 with 1 Axes>"
      ]
     },
     "metadata": {
      "needs_background": "light"
     },
     "output_type": "display_data"
    }
   ],
   "source": [
    "def plot_feature_importances_diabetes(model):\n",
    "    plt.figure(figsize=(13,20))\n",
    "    n_features = 13\n",
    "    plt.barh(range(n_features), model.feature_importances_, align='center')\n",
    "    plt.yticks(np.arange(n_features), selected_features)\n",
    "    plt.xlabel(\"Feature importance\")\n",
    "    plt.ylabel(\"Feature\")\n",
    "    plt.ylim(-1, n_features)\n",
    "\n",
    "plot_feature_importances_diabetes(tree)\n",
    "plt.savefig('feature_importance')"
   ]
  },
  {
   "cell_type": "code",
   "execution_count": 158,
   "metadata": {},
   "outputs": [
    {
     "name": "stdout",
     "output_type": "stream",
     "text": [
      "Training set accuracy: 0.665\n",
      "Test set accuracy: 0.481\n"
     ]
    }
   ],
   "source": [
    "tree = DecisionTreeClassifier(max_depth=10, random_state=66)\n",
    "tree.fit(X_train_scaled, y_train)\n",
    "\n",
    "# predict train set\n",
    "train_pred=tree.predict(X_train_scaled)\n",
    "# predict test set\n",
    "test_pred=tree.predict(X_test_scaled)\n",
    "\n",
    "print(\"Training set accuracy: {:.3f}\".format(accuracy_score(y_train, train_pred)))\n",
    "print(\"Test set accuracy: {:.3f}\".format(accuracy_score(y_test, test_pred)))"
   ]
  },
  {
   "cell_type": "code",
   "execution_count": 159,
   "metadata": {},
   "outputs": [
    {
     "name": "stdout",
     "output_type": "stream",
     "text": [
      "Training set accuracy: 0.851\n",
      "Test set accuracy: 0.784\n"
     ]
    }
   ],
   "source": [
    "from sklearn.ensemble import RandomForestClassifier\n",
    "\n",
    "rf = RandomForestClassifier(n_estimators=2, random_state=0)\n",
    "rf.fit(X_train_scaled, y_train)\n",
    "\n",
    "# predict train set\n",
    "train_pred=rf.predict(X_train_scaled)\n",
    "# predict test set\n",
    "test_pred=rf.predict(X_test_scaled)\n",
    "\n",
    "print(\"Training set accuracy: {:.3f}\".format(accuracy_score(y_train, train_pred)))\n",
    "print(\"Test set accuracy: {:.3f}\".format(accuracy_score(y_test, test_pred,)))"
   ]
  },
  {
   "cell_type": "code",
   "execution_count": 160,
   "metadata": {},
   "outputs": [
    {
     "name": "stdout",
     "output_type": "stream",
     "text": [
      "Training set accuracy: 0.851\n",
      "Test set accuracy: 0.784\n"
     ]
    }
   ],
   "source": [
    "rf1 = RandomForestClassifier(max_depth=50, n_estimators=2, random_state=0)\n",
    "rf1.fit(X_train_scaled, y_train)\n",
    "\n",
    "# predict train set\n",
    "train_pred=rf1.predict(X_train_scaled)\n",
    "# predict test set\n",
    "test_pred=rf1.predict(X_test_scaled)\n",
    "\n",
    "print(\"Training set accuracy: {:.3f}\".format(accuracy_score(y_train, train_pred)))\n",
    "print(\"Test set accuracy: {:.3f}\".format(accuracy_score(y_test, test_pred)))"
   ]
  },
  {
   "cell_type": "code",
   "execution_count": 161,
   "metadata": {},
   "outputs": [
    {
     "name": "stdout",
     "output_type": "stream",
     "text": [
      "Training set accuracy: 0.627\n",
      "Test set accuracy: 0.507\n"
     ]
    }
   ],
   "source": [
    "from sklearn.svm import SVC\n",
    "\n",
    "svc = SVC(gamma='auto')\n",
    "svc.fit(X_train_scaled, y_train)\n",
    "\n",
    "# predict train set\n",
    "train_pred=svc.predict(X_train_scaled)\n",
    "# predict test set\n",
    "test_pred=svc.predict(X_test_scaled)\n",
    "\n",
    "print(\"Training set accuracy: {:.3f}\".format(accuracy_score(y_train, train_pred)))\n",
    "print(\"Test set accuracy: {:.3f}\".format(accuracy_score(y_test, test_pred)))"
   ]
  },
  {
   "cell_type": "code",
   "execution_count": 162,
   "metadata": {},
   "outputs": [
    {
     "name": "stdout",
     "output_type": "stream",
     "text": [
      "Training set accuracy: 0.749\n",
      "Test set accuracy: 0.593\n"
     ]
    }
   ],
   "source": [
    "#try increassing gamma by setting to scale (uses n_features * X.var() rather than just n_features)\n",
    "\n",
    "svc = SVC(C=300, gamma='scale')\n",
    "svc.fit(X_train_scaled, y_train)\n",
    "\n",
    "# predict train set\n",
    "train_pred=svc.predict(X_train_scaled)\n",
    "# predict test set\n",
    "test_pred=svc.predict(X_test_scaled)\n",
    "\n",
    "print(\"Training set accuracy: {:.3f}\".format(accuracy_score(y_train, train_pred)))\n",
    "print(\"Test set accuracy: {:.3f}\".format(accuracy_score(y_test, test_pred)))"
   ]
  },
  {
   "cell_type": "code",
   "execution_count": 163,
   "metadata": {},
   "outputs": [],
   "source": [
    "clf = RandomForestClassifier(\n",
    "    n_estimators=2,\n",
    "    criterion='gini',\n",
    "    max_depth=50,\n",
    "    min_samples_split=2,\n",
    "    min_samples_leaf=1,\n",
    "    min_weight_fraction_leaf=0.0,\n",
    "    max_features='auto',\n",
    "    max_leaf_nodes=None,\n",
    "    min_impurity_decrease=0.0,\n",
    "    min_impurity_split=None,\n",
    "    bootstrap=True,\n",
    "    oob_score=False,\n",
    "    n_jobs=-1,\n",
    "    random_state=0,\n",
    "    verbose=0,\n",
    "    warm_start=False,\n",
    "    class_weight='balanced'\n",
    ")"
   ]
  },
  {
   "cell_type": "code",
   "execution_count": 164,
   "metadata": {},
   "outputs": [],
   "source": [
    "def plot_roc_curve(fprs, tprs):\n",
    "    \"\"\"Plot the Receiver Operating Characteristic from a list\n",
    "    of true positive rates and false positive rates.\"\"\"\n",
    "    \n",
    "    # Initialize useful lists + the plot axes.\n",
    "    tprs_interp = []\n",
    "    aucs = []\n",
    "    mean_fpr = np.linspace(0, 1, 100)\n",
    "    f, ax = plt.subplots(figsize=(14,10))\n",
    "    \n",
    "    # Plot ROC for each K-Fold + compute AUC scores.\n",
    "    for i, (fpr, tpr) in enumerate(zip(fprs, tprs)):\n",
    "        tprs_interp.append(np.interp(mean_fpr, fpr, tpr))\n",
    "        tprs_interp[-1][0] = 0.0\n",
    "        roc_auc = auc(fpr, tpr)\n",
    "        aucs.append(roc_auc)\n",
    "        ax.plot(fpr, tpr, lw=1, alpha=0.3,\n",
    "                 label='ROC fold %d (AUC = %0.2f)' % (i, roc_auc))\n",
    "        \n",
    "    # Plot the luck line.\n",
    "    plt.plot([0, 1], [0, 1], linestyle='--', lw=2, color='r',\n",
    "             label='Luck', alpha=.8)\n",
    "    \n",
    "    # Plot the mean ROC.\n",
    "    mean_tpr = np.mean(tprs_interp, axis=0)\n",
    "    mean_tpr[-1] = 1.0\n",
    "    mean_auc = auc(mean_fpr, mean_tpr)\n",
    "    std_auc = np.std(aucs)\n",
    "    ax.plot(mean_fpr, mean_tpr, color='b',\n",
    "             label=r'Mean ROC (AUC = %0.2f $\\pm$ %0.2f)' % (mean_auc, std_auc),\n",
    "             lw=2, alpha=.8)\n",
    "    \n",
    "    # Plot the standard deviation around the mean ROC.\n",
    "    std_tpr = np.std(tprs_interp, axis=0)\n",
    "    tprs_upper = np.minimum(mean_tpr + std_tpr, 1)\n",
    "    tprs_lower = np.maximum(mean_tpr - std_tpr, 0)\n",
    "    ax.fill_between(mean_fpr, tprs_lower, tprs_upper, color='grey', alpha=.2,\n",
    "                     label=r'$\\pm$ 1 std. dev.')\n",
    "    \n",
    "    # Fine tune and show the plot.\n",
    "    ax.set_xlim([-0.05, 1.05])\n",
    "    ax.set_ylim([-0.05, 1.05])\n",
    "    ax.set_xlabel('False Positive Rate')\n",
    "    ax.set_ylabel('True Positive Rate')\n",
    "    ax.set_title('Receiver operating characteristic')\n",
    "    ax.legend(loc=\"lower right\")\n",
    "    plt.show()\n",
    "    return (f, ax)\n",
    "\n",
    "def compute_roc_auc(index):\n",
    "    y_predict = clf.predict_proba(X_train.iloc[index])[:,1]\n",
    "    fpr, tpr, thresholds = roc_curve(y_train.iloc[index], y_predict)\n",
    "    auc_score = auc(fpr, tpr)\n",
    "    return fpr, tpr, auc_score"
   ]
  },
  {
   "cell_type": "code",
   "execution_count": 165,
   "metadata": {},
   "outputs": [
    {
     "data": {
      "image/png": "[encoded data removed]",
      "text/plain": [
       "<Figure size 1008x720 with 1 Axes>"
      ]
     },
     "metadata": {
      "needs_background": "light"
     },
     "output_type": "display_data"
    },
    {
     "data": {
      "text/html": [
       "<div>\n",
       "<style scoped>\n",
       "    .dataframe tbody tr th:only-of-type {\n",
       "        vertical-align: middle;\n",
       "    }\n",
       "\n",
       "    .dataframe tbody tr th {\n",
       "        vertical-align: top;\n",
       "    }\n",
       "\n",
       "    .dataframe thead th {\n",
       "        text-align: right;\n",
       "    }\n",
       "</style>\n",
       "<table border=\"1\" class=\"dataframe\">\n",
       "  <thead>\n",
       "    <tr style=\"text-align: right;\">\n",
       "      <th></th>\n",
       "      <th>AUC Train</th>\n",
       "      <th>AUC Test</th>\n",
       "    </tr>\n",
       "  </thead>\n",
       "  <tbody>\n",
       "    <tr>\n",
       "      <th>0</th>\n",
       "      <td>0.931422</td>\n",
       "      <td>0.616274</td>\n",
       "    </tr>\n",
       "    <tr>\n",
       "      <th>1</th>\n",
       "      <td>0.930315</td>\n",
       "      <td>0.640027</td>\n",
       "    </tr>\n",
       "    <tr>\n",
       "      <th>2</th>\n",
       "      <td>0.930007</td>\n",
       "      <td>0.626896</td>\n",
       "    </tr>\n",
       "    <tr>\n",
       "      <th>3</th>\n",
       "      <td>0.931913</td>\n",
       "      <td>0.605729</td>\n",
       "    </tr>\n",
       "    <tr>\n",
       "      <th>4</th>\n",
       "      <td>0.935710</td>\n",
       "      <td>0.622259</td>\n",
       "    </tr>\n",
       "  </tbody>\n",
       "</table>\n",
       "</div>"
      ],
      "text/plain": [
       "   AUC Train  AUC Test\n",
       "0   0.931422  0.616274\n",
       "1   0.930315  0.640027\n",
       "2   0.930007  0.626896\n",
       "3   0.931913  0.605729\n",
       "4   0.935710  0.622259"
      ]
     },
     "execution_count": 165,
     "metadata": {},
     "output_type": "execute_result"
    }
   ],
   "source": [
    "from sklearn.model_selection import StratifiedKFold\n",
    "from sklearn.metrics import roc_curve, auc, confusion_matrix\n",
    "\n",
    "cv = StratifiedKFold(n_splits=10, random_state=100, shuffle=True)\n",
    "results = pd.DataFrame(columns=['training_score', 'test_score'])\n",
    "fprs, tprs, scores = [], [], []\n",
    "    \n",
    "for (train, test), i in zip(cv.split(X_train, y_train), range(5)):\n",
    "    clf.fit(X_train.iloc[train], y_train.iloc[train])\n",
    "    _, _, auc_score_train = compute_roc_auc(train)\n",
    "    fpr, tpr, auc_score = compute_roc_auc(test)\n",
    "    scores.append((auc_score_train, auc_score))\n",
    "    fprs.append(fpr)\n",
    "    tprs.append(tpr)\n",
    "\n",
    "plot_roc_curve(fprs, tprs);\n",
    "pd.DataFrame(scores, columns=['AUC Train', 'AUC Test'])"
   ]
  },
  {
   "cell_type": "code",
   "execution_count": 180,
   "metadata": {},
   "outputs": [
    {
     "name": "stdout",
     "output_type": "stream",
     "text": [
      "LIVE DATA ACCURACY:  0.7947010484556531\n",
      "                  pred:churned  pred:not churned\n",
      "true:churned                 0                 0\n",
      "true:not churned          1449              5609\n"
     ]
    }
   ],
   "source": [
    "\n",
    "test_pred = clf.predict(X_test).astype(np.int)\n",
    "print(\"LIVE DATA ACCURACY: \", accuracy_score(test_pred,y_test))\n",
    "cmtx = pd.DataFrame(\n",
    "    confusion_matrix(y_test, test_pred, labels=[1, 0]), \n",
    "    index=['true:churned', 'true:not churned'], \n",
    "    columns=['pred:churned', 'pred:not churned']\n",
    ")\n",
    "print(cmtx)"
   ]
  },
  {
   "cell_type": "code",
   "execution_count": 167,
   "metadata": {},
   "outputs": [
    {
     "data": {
      "text/html": [
       "<div>\n",
       "<style scoped>\n",
       "    .dataframe tbody tr th:only-of-type {\n",
       "        vertical-align: middle;\n",
       "    }\n",
       "\n",
       "    .dataframe tbody tr th {\n",
       "        vertical-align: top;\n",
       "    }\n",
       "\n",
       "    .dataframe thead th {\n",
       "        text-align: right;\n",
       "    }\n",
       "</style>\n",
       "<table border=\"1\" class=\"dataframe\">\n",
       "  <thead>\n",
       "    <tr style=\"text-align: right;\">\n",
       "      <th></th>\n",
       "      <th>Age</th>\n",
       "      <th>AverageVisitPerMonth</th>\n",
       "      <th>AverageSpentEachMonth</th>\n",
       "      <th>TotalVisit</th>\n",
       "      <th>TotalMonth</th>\n",
       "      <th>TotalChildren</th>\n",
       "      <th>NumberCarsOwned</th>\n",
       "      <th>TotalSpent</th>\n",
       "      <th>TotalTransaction</th>\n",
       "      <th>YearlyIncomeBand</th>\n",
       "      <th>EnglishOccupation</th>\n",
       "      <th>SalesTerritoryCountry</th>\n",
       "      <th>SalesTerritoryRegion</th>\n",
       "    </tr>\n",
       "  </thead>\n",
       "  <tbody>\n",
       "    <tr>\n",
       "      <th>1</th>\n",
       "      <td>69</td>\n",
       "      <td>1</td>\n",
       "      <td>4.9900</td>\n",
       "      <td>1</td>\n",
       "      <td>1</td>\n",
       "      <td>2</td>\n",
       "      <td>4</td>\n",
       "      <td>4.9900</td>\n",
       "      <td>1</td>\n",
       "      <td>3</td>\n",
       "      <td>1</td>\n",
       "      <td>2</td>\n",
       "      <td>3</td>\n",
       "    </tr>\n",
       "    <tr>\n",
       "      <th>4</th>\n",
       "      <td>43</td>\n",
       "      <td>2</td>\n",
       "      <td>29.4800</td>\n",
       "      <td>2</td>\n",
       "      <td>1</td>\n",
       "      <td>1</td>\n",
       "      <td>0</td>\n",
       "      <td>29.4800</td>\n",
       "      <td>1</td>\n",
       "      <td>2</td>\n",
       "      <td>4</td>\n",
       "      <td>5</td>\n",
       "      <td>7</td>\n",
       "    </tr>\n",
       "    <tr>\n",
       "      <th>5</th>\n",
       "      <td>45</td>\n",
       "      <td>1</td>\n",
       "      <td>782.9900</td>\n",
       "      <td>1</td>\n",
       "      <td>1</td>\n",
       "      <td>1</td>\n",
       "      <td>0</td>\n",
       "      <td>782.9900</td>\n",
       "      <td>1</td>\n",
       "      <td>2</td>\n",
       "      <td>4</td>\n",
       "      <td>1</td>\n",
       "      <td>1</td>\n",
       "    </tr>\n",
       "    <tr>\n",
       "      <th>9</th>\n",
       "      <td>50</td>\n",
       "      <td>1</td>\n",
       "      <td>2243.2048</td>\n",
       "      <td>3</td>\n",
       "      <td>2</td>\n",
       "      <td>1</td>\n",
       "      <td>2</td>\n",
       "      <td>4486.4096</td>\n",
       "      <td>2</td>\n",
       "      <td>1</td>\n",
       "      <td>4</td>\n",
       "      <td>2</td>\n",
       "      <td>3</td>\n",
       "    </tr>\n",
       "    <tr>\n",
       "      <th>13</th>\n",
       "      <td>39</td>\n",
       "      <td>1</td>\n",
       "      <td>21.4900</td>\n",
       "      <td>1</td>\n",
       "      <td>1</td>\n",
       "      <td>0</td>\n",
       "      <td>2</td>\n",
       "      <td>21.4900</td>\n",
       "      <td>1</td>\n",
       "      <td>1</td>\n",
       "      <td>2</td>\n",
       "      <td>3</td>\n",
       "      <td>4</td>\n",
       "    </tr>\n",
       "    <tr>\n",
       "      <th>...</th>\n",
       "      <td>...</td>\n",
       "      <td>...</td>\n",
       "      <td>...</td>\n",
       "      <td>...</td>\n",
       "      <td>...</td>\n",
       "      <td>...</td>\n",
       "      <td>...</td>\n",
       "      <td>...</td>\n",
       "      <td>...</td>\n",
       "      <td>...</td>\n",
       "      <td>...</td>\n",
       "      <td>...</td>\n",
       "      <td>...</td>\n",
       "    </tr>\n",
       "    <tr>\n",
       "      <th>8318</th>\n",
       "      <td>43</td>\n",
       "      <td>3</td>\n",
       "      <td>2309.9700</td>\n",
       "      <td>3</td>\n",
       "      <td>1</td>\n",
       "      <td>0</td>\n",
       "      <td>1</td>\n",
       "      <td>2309.9700</td>\n",
       "      <td>1</td>\n",
       "      <td>3</td>\n",
       "      <td>1</td>\n",
       "      <td>5</td>\n",
       "      <td>6</td>\n",
       "    </tr>\n",
       "    <tr>\n",
       "      <th>8320</th>\n",
       "      <td>67</td>\n",
       "      <td>2</td>\n",
       "      <td>28.4650</td>\n",
       "      <td>4</td>\n",
       "      <td>2</td>\n",
       "      <td>2</td>\n",
       "      <td>0</td>\n",
       "      <td>56.9300</td>\n",
       "      <td>2</td>\n",
       "      <td>2</td>\n",
       "      <td>1</td>\n",
       "      <td>5</td>\n",
       "      <td>8</td>\n",
       "    </tr>\n",
       "    <tr>\n",
       "      <th>8321</th>\n",
       "      <td>50</td>\n",
       "      <td>2</td>\n",
       "      <td>47.6300</td>\n",
       "      <td>4</td>\n",
       "      <td>2</td>\n",
       "      <td>3</td>\n",
       "      <td>2</td>\n",
       "      <td>95.2600</td>\n",
       "      <td>2</td>\n",
       "      <td>2</td>\n",
       "      <td>3</td>\n",
       "      <td>0</td>\n",
       "      <td>0</td>\n",
       "    </tr>\n",
       "    <tr>\n",
       "      <th>8322</th>\n",
       "      <td>39</td>\n",
       "      <td>2</td>\n",
       "      <td>39.9800</td>\n",
       "      <td>2</td>\n",
       "      <td>1</td>\n",
       "      <td>0</td>\n",
       "      <td>1</td>\n",
       "      <td>39.9800</td>\n",
       "      <td>1</td>\n",
       "      <td>1</td>\n",
       "      <td>2</td>\n",
       "      <td>2</td>\n",
       "      <td>3</td>\n",
       "    </tr>\n",
       "    <tr>\n",
       "      <th>8323</th>\n",
       "      <td>67</td>\n",
       "      <td>2</td>\n",
       "      <td>3750.0882</td>\n",
       "      <td>2</td>\n",
       "      <td>1</td>\n",
       "      <td>2</td>\n",
       "      <td>2</td>\n",
       "      <td>3750.0882</td>\n",
       "      <td>2</td>\n",
       "      <td>1</td>\n",
       "      <td>0</td>\n",
       "      <td>0</td>\n",
       "      <td>0</td>\n",
       "    </tr>\n",
       "  </tbody>\n",
       "</table>\n",
       "<p>11135 rows × 13 columns</p>\n",
       "</div>"
      ],
      "text/plain": [
       "      Age  AverageVisitPerMonth  AverageSpentEachMonth  TotalVisit  \\\n",
       "1      69                     1                 4.9900           1   \n",
       "4      43                     2                29.4800           2   \n",
       "5      45                     1               782.9900           1   \n",
       "9      50                     1              2243.2048           3   \n",
       "13     39                     1                21.4900           1   \n",
       "...   ...                   ...                    ...         ...   \n",
       "8318   43                     3              2309.9700           3   \n",
       "8320   67                     2                28.4650           4   \n",
       "8321   50                     2                47.6300           4   \n",
       "8322   39                     2                39.9800           2   \n",
       "8323   67                     2              3750.0882           2   \n",
       "\n",
       "      TotalMonth  TotalChildren  NumberCarsOwned  TotalSpent  \\\n",
       "1              1              2                4      4.9900   \n",
       "4              1              1                0     29.4800   \n",
       "5              1              1                0    782.9900   \n",
       "9              2              1                2   4486.4096   \n",
       "13             1              0                2     21.4900   \n",
       "...          ...            ...              ...         ...   \n",
       "8318           1              0                1   2309.9700   \n",
       "8320           2              2                0     56.9300   \n",
       "8321           2              3                2     95.2600   \n",
       "8322           1              0                1     39.9800   \n",
       "8323           1              2                2   3750.0882   \n",
       "\n",
       "      TotalTransaction  YearlyIncomeBand  EnglishOccupation  \\\n",
       "1                    1                 3                  1   \n",
       "4                    1                 2                  4   \n",
       "5                    1                 2                  4   \n",
       "9                    2                 1                  4   \n",
       "13                   1                 1                  2   \n",
       "...                ...               ...                ...   \n",
       "8318                 1                 3                  1   \n",
       "8320                 2                 2                  1   \n",
       "8321                 2                 2                  3   \n",
       "8322                 1                 1                  2   \n",
       "8323                 2                 1                  0   \n",
       "\n",
       "      SalesTerritoryCountry  SalesTerritoryRegion  \n",
       "1                         2                     3  \n",
       "4                         5                     7  \n",
       "5                         1                     1  \n",
       "9                         2                     3  \n",
       "13                        3                     4  \n",
       "...                     ...                   ...  \n",
       "8318                      5                     6  \n",
       "8320                      5                     8  \n",
       "8321                      0                     0  \n",
       "8322                      2                     3  \n",
       "8323                      0                     0  \n",
       "\n",
       "[11135 rows x 13 columns]"
      ]
     },
     "execution_count": 167,
     "metadata": {},
     "output_type": "execute_result"
    }
   ],
   "source": [
    "X_train"
   ]
  },
  {
   "cell_type": "markdown",
   "metadata": {},
   "source": [
    "#### RESULTS"
   ]
  },
  {
   "cell_type": "code",
   "execution_count": 168,
   "metadata": {},
   "outputs": [],
   "source": [
    "rf1 = RandomForestClassifier(max_depth=50, n_estimators=2, random_state=0)\n"
   ]
  },
  {
   "cell_type": "code",
   "execution_count": null,
   "metadata": {},
   "outputs": [],
   "source": []
  },
  {
   "cell_type": "code",
   "execution_count": 169,
   "metadata": {},
   "outputs": [],
   "source": [
    "rf1 = RandomForestClassifier(max_depth=50, n_estimators=2, random_state=0)\n",
    "rf1.fit(X_train_scaled, y_train)\n",
    "\n",
    "# predict set\n",
    "pred=rf1.predict(predict_churner_data_scaled)\n",
    "                                                                                                                                                                                                                                                                                                                                                                                                                                                                                                                                                                                                                                                                                                                                                                                                                                                                                                                                                                                                                                                                                                                                                                                                                                                                                                                                                                                                                                                                                                                                                                                                                                                                                                                                                                                                                                                                                                                                                                                                                                                                                                                                                                                                                                                             "
   ]
  },
  {
   "cell_type": "code",
   "execution_count": 170,
   "metadata": {},
   "outputs": [
    {
     "data": {
      "text/plain": [
       "array([0, 0, 1, ..., 0, 0, 0], dtype=int64)"
      ]
     },
     "execution_count": 170,
     "metadata": {},
     "output_type": "execute_result"
    }
   ],
   "source": [
    "pred"
   ]
  },
  {
   "cell_type": "code",
   "execution_count": 171,
   "metadata": {},
   "outputs": [],
   "source": [
    "customer_key = customerKey_churn_predict.values"
   ]
  },
  {
   "cell_type": "code",
   "execution_count": 172,
   "metadata": {},
   "outputs": [
    {
     "data": {
      "text/plain": [
       "array([18547, 22460, 16532, ..., 15148, 21640, 25968], dtype=int64)"
      ]
     },
     "execution_count": 172,
     "metadata": {},
     "output_type": "execute_result"
    }
   ],
   "source": [
    "customer_key"
   ]
  },
  {
   "cell_type": "code",
   "execution_count": 173,
   "metadata": {},
   "outputs": [],
   "source": [
    "output = pd.DataFrame({'customer_key': customer_key, 'Churn_prediction': pred}, columns=['customer_key', 'Churn_prediction'])"
   ]
  },
  {
   "cell_type": "code",
   "execution_count": 174,
   "metadata": {},
   "outputs": [
    {
     "data": {
      "text/html": [
       "<div>\n",
       "<style scoped>\n",
       "    .dataframe tbody tr th:only-of-type {\n",
       "        vertical-align: middle;\n",
       "    }\n",
       "\n",
       "    .dataframe tbody tr th {\n",
       "        vertical-align: top;\n",
       "    }\n",
       "\n",
       "    .dataframe thead th {\n",
       "        text-align: right;\n",
       "    }\n",
       "</style>\n",
       "<table border=\"1\" class=\"dataframe\">\n",
       "  <thead>\n",
       "    <tr style=\"text-align: right;\">\n",
       "      <th></th>\n",
       "      <th>customer_key</th>\n",
       "      <th>Churn_prediction</th>\n",
       "    </tr>\n",
       "  </thead>\n",
       "  <tbody>\n",
       "    <tr>\n",
       "      <th>0</th>\n",
       "      <td>18547</td>\n",
       "      <td>0</td>\n",
       "    </tr>\n",
       "    <tr>\n",
       "      <th>1</th>\n",
       "      <td>22460</td>\n",
       "      <td>0</td>\n",
       "    </tr>\n",
       "    <tr>\n",
       "      <th>2</th>\n",
       "      <td>16532</td>\n",
       "      <td>1</td>\n",
       "    </tr>\n",
       "    <tr>\n",
       "      <th>3</th>\n",
       "      <td>17073</td>\n",
       "      <td>0</td>\n",
       "    </tr>\n",
       "    <tr>\n",
       "      <th>4</th>\n",
       "      <td>29430</td>\n",
       "      <td>1</td>\n",
       "    </tr>\n",
       "    <tr>\n",
       "      <th>...</th>\n",
       "      <td>...</td>\n",
       "      <td>...</td>\n",
       "    </tr>\n",
       "    <tr>\n",
       "      <th>7131</th>\n",
       "      <td>12984</td>\n",
       "      <td>0</td>\n",
       "    </tr>\n",
       "    <tr>\n",
       "      <th>7132</th>\n",
       "      <td>17312</td>\n",
       "      <td>1</td>\n",
       "    </tr>\n",
       "    <tr>\n",
       "      <th>7133</th>\n",
       "      <td>15148</td>\n",
       "      <td>0</td>\n",
       "    </tr>\n",
       "    <tr>\n",
       "      <th>7134</th>\n",
       "      <td>21640</td>\n",
       "      <td>0</td>\n",
       "    </tr>\n",
       "    <tr>\n",
       "      <th>7135</th>\n",
       "      <td>25968</td>\n",
       "      <td>0</td>\n",
       "    </tr>\n",
       "  </tbody>\n",
       "</table>\n",
       "<p>7136 rows × 2 columns</p>\n",
       "</div>"
      ],
      "text/plain": [
       "      customer_key  Churn_prediction\n",
       "0            18547                 0\n",
       "1            22460                 0\n",
       "2            16532                 1\n",
       "3            17073                 0\n",
       "4            29430                 1\n",
       "...            ...               ...\n",
       "7131         12984                 0\n",
       "7132         17312                 1\n",
       "7133         15148                 0\n",
       "7134         21640                 0\n",
       "7135         25968                 0\n",
       "\n",
       "[7136 rows x 2 columns]"
      ]
     },
     "execution_count": 174,
     "metadata": {},
     "output_type": "execute_result"
    }
   ],
   "source": [
    "output"
   ]
  },
  {
   "cell_type": "code",
   "execution_count": 175,
   "metadata": {},
   "outputs": [
    {
     "data": {
      "image/png": "[encoded data removed]",
      "text/plain": [
       "<Figure size 432x288 with 1 Axes>"
      ]
     },
     "metadata": {},
     "output_type": "display_data"
    }
   ],
   "source": [
    "total_data,total_columns = output.shape\n",
    "#Exploring TARGET_B column\n",
    "target_non_churners,target_churners=output.groupby('Churn_prediction').size()\n",
    "pie_slice = [target_churners, target_non_churners]\n",
    "labels = ['Churners','Non-Churners' ]\n",
    "colours = ['#ff9999','#66b3ff']\n",
    "plt.pie(pie_slice,labels=labels,colors=colours,shadow=True,explode=(0.05,0.05), autopct='%1.2f%%')\n",
    "plt.show()"
   ]
  },
  {
   "cell_type": "code",
   "execution_count": 176,
   "metadata": {},
   "outputs": [
    {
     "data": {
      "text/plain": [
       "1549"
      ]
     },
     "execution_count": 176,
     "metadata": {},
     "output_type": "execute_result"
    }
   ],
   "source": [
    "target_churners"
   ]
  },
  {
   "cell_type": "code",
   "execution_count": 177,
   "metadata": {},
   "outputs": [
    {
     "data": {
      "text/plain": [
       "5587"
      ]
     },
     "execution_count": 177,
     "metadata": {},
     "output_type": "execute_result"
    }
   ],
   "source": [
    "target_non_churners"
   ]
  },
  {
   "cell_type": "code",
   "execution_count": 178,
   "metadata": {},
   "outputs": [],
   "source": [
    "output.to_csv('final_prediction.csv')"
   ]
  },
  {
   "cell_type": "code",
   "execution_count": 179,
   "metadata": {},
   "outputs": [
    {
     "data": {
      "image/png": "[encoded data removed]",
      "text/plain": [
       "<Figure size 432x288 with 1 Axes>"
      ]
     },
     "metadata": {
      "needs_background": "light"
     },
     "output_type": "display_data"
    }
   ],
   "source": [
    "objects = ('Non-Churners', 'Churners')\n",
    "plt.tick_params(labelsize=40)\n",
    "y_pos = np.arange(len(objects))\n",
    "performance = [target_non_churners, target_churners]\n",
    "\n",
    "plt.bar(y_pos, performance, align='center', alpha=0.5)\n",
    "plt.xticks(y_pos, objects)\n",
    "plt.ylabel('Frequency')\n",
    "plt.title('Statistic')\n",
    "\n",
    "plt.show()\n"
   ]
  },
  {
   "cell_type": "code",
   "execution_count": null,
   "metadata": {},
   "outputs": [],
   "source": []
  }
 ],
 "metadata": {
  "kernelspec": {
   "display_name": "Python 3",
   "language": "python",
   "name": "python3"
  },
  "language_info": {
   "codemirror_mode": {
    "name": "ipython",
    "version": 3
   },
   "file_extension": ".py",
   "mimetype": "text/x-python",
   "name": "python",
   "nbconvert_exporter": "python",
   "pygments_lexer": "ipython3",
   "version": "3.7.0"
  }
 },
 "nbformat": 4,
 "nbformat_minor": 2
}
